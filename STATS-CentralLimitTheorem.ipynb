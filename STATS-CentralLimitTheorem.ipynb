{
 "cells": [
  {
   "cell_type": "code",
   "execution_count": 1,
   "metadata": {},
   "outputs": [],
   "source": [
    "import pandas as pd\n",
    "import seaborn as sns\n",
    "import matplotlib.pyplot as plt\n",
    "import numpy as np\n",
    "from scipy import stats\n",
    "np.random.seed(seed=42)\n",
    "\n",
    "from collections import Counter"
   ]
  },
  {
   "cell_type": "code",
   "execution_count": 2,
   "metadata": {},
   "outputs": [
    {
     "data": {
      "text/plain": [
       "<matplotlib.axes._subplots.AxesSubplot at 0x1a16e95a90>"
      ]
     },
     "execution_count": 2,
     "metadata": {},
     "output_type": "execute_result"
    },
    {
     "data": {
      "image/png": "[encoded data removed]",
      "text/plain": [
       "<Figure size 432x288 with 1 Axes>"
      ]
     },
     "metadata": {
      "needs_background": "light"
     },
     "output_type": "display_data"
    }
   ],
   "source": [
    "# Let's start with a binomial random variables\n",
    "n = 3\n",
    "p = 0.5 \n",
    "r = stats.binom.rvs(n, p, size=100000)\n",
    "\n",
    "sns.countplot(r)"
   ]
  },
  {
   "cell_type": "code",
   "execution_count": 3,
   "metadata": {},
   "outputs": [
    {
     "data": {
      "text/plain": [
       "array([1, 3, 2, ..., 2, 1, 1])"
      ]
     },
     "execution_count": 3,
     "metadata": {},
     "output_type": "execute_result"
    }
   ],
   "source": [
    "r"
   ]
  },
  {
   "cell_type": "code",
   "execution_count": 5,
   "metadata": {},
   "outputs": [
    {
     "name": "stdout",
     "output_type": "stream",
     "text": [
      "\n",
      " min=0\n",
      " max=3\n",
      " median=2.0\n",
      " mean=1.49848\n",
      " std=0.8642020354359162\n",
      "\n"
     ]
    }
   ],
   "source": [
    "print(f\"\\n min={np.min(r)}\\n max={np.max(r)}\\n median={np.median(r)}\\n mean={np.mean(r)}\\n std={np.std(r, ddof=1)}\\n\" )"
   ]
  },
  {
   "cell_type": "code",
   "execution_count": null,
   "metadata": {},
   "outputs": [],
   "source": []
  },
  {
   "cell_type": "code",
   "execution_count": 8,
   "metadata": {},
   "outputs": [
    {
     "data": {
      "text/plain": [
       "array([[1, 1, 2, 1, 3, 2, 3, 1, 0, 1, 0, 2, 1, 2, 2, 1, 2, 0, 1, 2, 2, 2,\n",
       "        2, 2, 1, 3, 3, 0, 3, 2, 2, 1, 1, 2, 1, 2, 1, 1, 0, 3],\n",
       "       [0, 2, 2, 2, 2, 3, 2, 2, 3, 1, 1, 2, 1, 2, 2, 2, 3, 3, 1, 1, 2, 2,\n",
       "        1, 1, 1, 3, 0, 1, 2, 1, 0, 1, 1, 3, 1, 0, 3, 1, 1, 2],\n",
       "       [2, 2, 1, 1, 3, 1, 2, 0, 1, 3, 2, 1, 2, 1, 3, 1, 1, 2, 2, 2, 1, 2,\n",
       "        1, 0, 3, 1, 1, 2, 2, 1, 2, 1, 3, 1, 0, 1, 2, 3, 0, 3],\n",
       "       [3, 2, 2, 0, 1, 1, 2, 2, 3, 1, 2, 0, 3, 3, 0, 2, 1, 1, 2, 1, 1, 1,\n",
       "        0, 2, 1, 3, 3, 0, 2, 2, 2, 1, 1, 1, 1, 3, 0, 0, 2, 2],\n",
       "       [2, 1, 1, 1, 1, 1, 2, 1, 3, 2, 1, 1, 1, 0, 1, 3, 2, 1, 2, 3, 2, 2,\n",
       "        1, 0, 1, 2, 1, 2, 1, 2, 0, 3, 2, 2, 0, 0, 2, 0, 3, 2],\n",
       "       [0, 2, 2, 2, 1, 1, 2, 2, 2, 2, 2, 2, 2, 3, 2, 1, 3, 3, 2, 0, 2, 0,\n",
       "        0, 1, 1, 2, 1, 1, 2, 1, 0, 1, 2, 0, 3, 1, 2, 1, 2, 0],\n",
       "       [2, 0, 1, 1, 1, 1, 0, 1, 2, 2, 1, 2, 1, 2, 0, 1, 3, 3, 3, 2, 1, 1,\n",
       "        0, 0, 2, 2, 2, 2, 0, 1, 2, 2, 1, 0, 3, 3, 2, 0, 2, 1],\n",
       "       [2, 1, 1, 1, 2, 2, 2, 1, 1, 3, 1, 3, 0, 1, 2, 3, 3, 2, 2, 2, 2, 2,\n",
       "        0, 2, 3, 3, 1, 1, 0, 2, 1, 1, 0, 1, 1, 1, 1, 0, 0, 0],\n",
       "       [2, 1, 3, 2, 2, 1, 0, 0, 2, 3, 1, 2, 2, 2, 2, 0, 2, 1, 2, 1, 2, 2,\n",
       "        2, 1, 1, 1, 1, 2, 1, 2, 2, 1, 1, 1, 0, 1, 1, 1, 2, 2],\n",
       "       [1, 0, 3, 2, 0, 1, 0, 2, 2, 3, 1, 3, 2, 2, 1, 1, 1, 0, 2, 2, 2, 2,\n",
       "        1, 2, 2, 2, 1, 0, 0, 2, 2, 0, 2, 1, 1, 2, 2, 1, 2, 2]])"
      ]
     },
     "execution_count": 8,
     "metadata": {},
     "output_type": "execute_result"
    }
   ],
   "source": [
    "# Let's take 10 samples of 40 values each from r\n",
    "r = stats.binom.rvs(n, p, size=(10,40))\n",
    "r"
   ]
  },
  {
   "cell_type": "code",
   "execution_count": 11,
   "metadata": {},
   "outputs": [
    {
     "name": "stdout",
     "output_type": "stream",
     "text": [
      "[1.55  1.6   1.575 1.5   1.45  1.475 1.4   1.425 1.45  1.45 ]\n"
     ]
    },
    {
     "data": {
      "text/plain": [
       "<matplotlib.axes._subplots.AxesSubplot at 0x1a1762d350>"
      ]
     },
     "execution_count": 11,
     "metadata": {},
     "output_type": "execute_result"
    },
    {
     "data": {
      "image/png": "[encoded data removed]",
      "text/plain": [
       "<Figure size 432x288 with 1 Axes>"
      ]
     },
     "metadata": {
      "needs_background": "light"
     },
     "output_type": "display_data"
    }
   ],
   "source": [
    "# now let's compute the sample means and plot them\n",
    "print(np.mean(r, axis=1)) #means for each of the ten samples\n",
    "sns.distplot(np.mean(r, axis=1), kde=False) "
   ]
  },
  {
   "cell_type": "code",
   "execution_count": null,
   "metadata": {},
   "outputs": [],
   "source": []
  },
  {
   "cell_type": "code",
   "execution_count": 12,
   "metadata": {},
   "outputs": [
    {
     "name": "stdout",
     "output_type": "stream",
     "text": [
      "[1.65  1.45  1.575 1.4   1.525 1.525 1.575 1.6   1.8   1.4   1.625 1.5\n",
      " 1.4   1.35  1.35  1.65  1.225 1.625 1.425 1.375]\n"
     ]
    },
    {
     "data": {
      "text/plain": [
       "<matplotlib.axes._subplots.AxesSubplot at 0x1a17758dd0>"
      ]
     },
     "execution_count": 12,
     "metadata": {},
     "output_type": "execute_result"
    },
    {
     "data": {
      "image/png": "[encoded data removed]",
      "text/plain": [
       "<Figure size 432x288 with 1 Axes>"
      ]
     },
     "metadata": {
      "needs_background": "light"
     },
     "output_type": "display_data"
    }
   ],
   "source": [
    "# Now let's do 20 means\n",
    "r = stats.binom.rvs(n, p, size=(20,40))\n",
    "print(np.mean(r, axis=1)) #means for each of the ten samples\n",
    "sns.distplot(np.mean(r, axis=1), kde=False) "
   ]
  },
  {
   "cell_type": "code",
   "execution_count": null,
   "metadata": {},
   "outputs": [],
   "source": []
  },
  {
   "cell_type": "code",
   "execution_count": 13,
   "metadata": {},
   "outputs": [
    {
     "name": "stdout",
     "output_type": "stream",
     "text": [
      "[1.65  1.325 1.475 1.275 1.675 1.5   1.35  1.225 1.55  1.45  1.4   1.525\n",
      " 1.75  1.575 1.5   1.475 1.425 1.375 1.425 1.55  1.475 1.575 1.35  1.7\n",
      " 1.625 1.6   1.4   1.55  1.525 1.275 1.4   1.5   1.45  1.55  1.675 1.475\n",
      " 1.4   1.55  1.475 1.675 1.775 1.55  1.425 1.325 1.6   1.45  1.475 1.6\n",
      " 1.5   1.575]\n"
     ]
    },
    {
     "data": {
      "text/plain": [
       "<matplotlib.axes._subplots.AxesSubplot at 0x1a174a3d90>"
      ]
     },
     "execution_count": 13,
     "metadata": {},
     "output_type": "execute_result"
    },
    {
     "data": {
      "image/png": "[encoded data removed]",
      "text/plain": [
       "<Figure size 432x288 with 1 Axes>"
      ]
     },
     "metadata": {
      "needs_background": "light"
     },
     "output_type": "display_data"
    }
   ],
   "source": [
    "# 50 means\n",
    "r = stats.binom.rvs(n, p, size=(50,40))\n",
    "print(np.mean(r, axis=1)) #means for each of the 50 samples\n",
    "sns.distplot(np.mean(r, axis=1), kde=False) "
   ]
  },
  {
   "cell_type": "code",
   "execution_count": null,
   "metadata": {},
   "outputs": [],
   "source": []
  },
  {
   "cell_type": "code",
   "execution_count": 14,
   "metadata": {},
   "outputs": [
    {
     "name": "stdout",
     "output_type": "stream",
     "text": [
      "[1.375 1.375 1.525 1.625 1.3   1.35  1.775 1.475 1.45  1.475 1.45  1.625\n",
      " 1.45  1.725 1.5   1.6   1.575 1.25  1.3   1.425 1.45  1.45  1.85  1.625\n",
      " 1.425 1.55  1.5   1.65  1.375 1.6   1.45  1.55  1.725 1.45  1.6   1.5\n",
      " 1.425 1.1   1.6   1.375 1.775 1.575 1.4   1.6   1.675 1.35  1.575 1.65\n",
      " 1.525 1.525 1.4   1.4   1.575 1.7   1.5   1.7   1.525 1.525 1.575 1.6\n",
      " 1.35  1.425 1.425 1.525 1.625 1.5   1.3   1.7   1.475 1.275 1.55  1.5\n",
      " 1.65  1.625 1.425 1.625 1.625 1.35  1.25  1.4   1.125 1.575 1.825 1.6\n",
      " 1.725 1.45  1.625 1.45  1.5   1.525 1.25  1.475 1.5   1.675 1.475 1.5\n",
      " 1.275 1.6   1.475 1.425]\n"
     ]
    },
    {
     "data": {
      "text/plain": [
       "<matplotlib.axes._subplots.AxesSubplot at 0x1a16e95a10>"
      ]
     },
     "execution_count": 14,
     "metadata": {},
     "output_type": "execute_result"
    },
    {
     "data": {
      "image/png": "[encoded data removed]",
      "text/plain": [
       "<Figure size 432x288 with 1 Axes>"
      ]
     },
     "metadata": {
      "needs_background": "light"
     },
     "output_type": "display_data"
    }
   ],
   "source": [
    "# 100 means\n",
    "r = stats.binom.rvs(n, p, size=(100,40))\n",
    "print(np.mean(r, axis=1)) #means for each of the 100 samples\n",
    "sns.distplot(np.mean(r, axis=1), kde=False) "
   ]
  },
  {
   "cell_type": "code",
   "execution_count": null,
   "metadata": {},
   "outputs": [],
   "source": []
  },
  {
   "cell_type": "code",
   "execution_count": 15,
   "metadata": {},
   "outputs": [
    {
     "name": "stdout",
     "output_type": "stream",
     "text": [
      "[1.4   1.75  1.75  1.7   1.525 1.5   1.775 1.45  1.55  1.35  1.7   1.375\n",
      " 1.575 1.675 1.75  1.4   1.6   1.475 1.575 1.4   1.5   1.35  1.35  1.525\n",
      " 1.325 1.55  1.45  1.275 1.525 1.275 1.55  1.6   1.375 1.425 1.525 1.45\n",
      " 1.175 1.475 1.45  1.45  1.15  1.525 1.625 1.55  1.625 1.525 1.4   1.7\n",
      " 1.4   1.6   1.275 1.65  1.6   1.6   1.525 1.425 1.375 1.65  1.55  1.45\n",
      " 1.675 1.45  1.5   1.45  1.575 1.625 1.425 1.55  1.575 1.425 1.7   1.4\n",
      " 1.475 1.425 1.4   1.5   1.35  1.45  1.475 1.6   1.475 1.675 1.525 1.375\n",
      " 1.625 1.475 1.725 1.575 1.325 1.575 1.5   1.45  1.475 1.45  1.35  1.5\n",
      " 1.5   1.6   1.45  1.55  1.6   1.65  1.325 1.375 1.225 1.575 1.575 1.5\n",
      " 1.625 1.475 1.575 1.475 1.5   1.525 1.575 1.2   1.7   1.35  1.25  1.525\n",
      " 1.575 1.35  1.525 1.8   1.55  1.6   1.25  1.425 1.8   1.5   1.45  1.675\n",
      " 1.35  1.5   1.375 1.425 1.55  1.5   1.525 1.6   1.55  1.5   1.35  1.4\n",
      " 1.675 1.475 1.25  1.45  1.375 1.55  1.625 1.325 1.35  1.4   1.475 1.325\n",
      " 1.625 1.4   1.7   1.475 1.575 1.775 1.625 1.425 1.625 1.6   1.475 1.7\n",
      " 1.45  1.5   1.575 1.35  1.4   1.7   1.475 1.4   1.475 1.55  1.325 1.625\n",
      " 1.5   1.525 1.55  1.425 1.8   1.475 1.325 1.65  1.5   1.55  1.55  1.5\n",
      " 1.375 1.45  1.575 1.675 1.65  1.725 1.4   1.5   1.25  1.625 1.6   1.575\n",
      " 1.575 1.55  1.45  1.425 1.4   1.325 1.45  1.375 1.5   1.7   1.375 1.65\n",
      " 1.55  1.5   1.325 1.375 1.575 1.525 1.325 1.625 1.7   1.575 1.6   1.375\n",
      " 1.35  1.35  1.55  1.475 1.725 1.5   1.5   1.575 1.65  1.5   1.3   1.55\n",
      " 1.5   1.575 1.35  1.45  1.475 1.425 1.5   1.425 1.3   1.625 1.8   1.55\n",
      " 1.2   1.5   1.7   1.75  1.725 1.625 1.575 1.65  1.4   1.325 1.475 1.45\n",
      " 1.25  1.85  1.325 1.4   1.525 1.625 1.4   1.275 1.45  1.625 1.375 1.55\n",
      " 1.525 1.55  1.625 1.275 1.5   1.625 1.4   1.55  1.675 1.525 1.4   1.525\n",
      " 1.55  1.5   1.575 1.625 1.4   1.575 1.35  1.525 1.5   1.525 1.55  1.325\n",
      " 1.625 1.4   1.325 1.35  1.475 1.7   1.35  1.475 1.325 1.4   1.4   1.45\n",
      " 1.5   1.6   1.425 1.375 1.5   1.575 1.475 1.7   1.375 1.575 1.45  1.475\n",
      " 1.775 1.475 1.625 1.175 1.65  1.625 1.475 1.525 1.35  1.35  1.55  1.5\n",
      " 1.4   1.425 1.55  1.45  1.35  1.725 1.325 1.45  1.25  1.4   1.275 1.6\n",
      " 1.65  1.6   1.625 1.5   1.625 1.65  1.475 1.475 1.55  1.275 1.4   1.575\n",
      " 1.6   1.325 1.6   1.5   1.275 1.375 1.25  1.575 1.475 1.275 1.375 1.35\n",
      " 1.275 1.2   1.4   1.725 1.325 1.525 1.375 1.75  1.45  1.325 1.6   1.375\n",
      " 1.55  1.35  1.55  1.55  1.35  1.625 1.35  1.575 1.475 1.275 1.675 1.575\n",
      " 1.35  1.4   1.5   1.55  1.45  1.5   1.55  1.6   1.375 1.675 1.375 1.35\n",
      " 1.55  1.7   1.35  1.375 1.6   1.425 1.325 1.7   1.325 1.575 1.55  1.4\n",
      " 1.625 1.475 1.475 1.4   1.4   1.5   1.5   1.525 1.525 1.5   1.5   1.375\n",
      " 1.3   1.2   1.775 1.65  1.925 1.9   1.55  1.475 1.45  1.65  1.55  1.55\n",
      " 1.175 1.475 1.45  1.55  1.425 1.6   1.475 1.425 1.55  1.55  1.45  1.3\n",
      " 1.575 1.275 1.85  1.525 1.55  1.4   1.45  1.375 1.6   1.275 1.775 1.175\n",
      " 1.45  1.55  1.575 1.525 1.375 1.45  1.45  1.35  1.75  1.8   1.625 1.325\n",
      " 1.5   1.475 1.4   1.475 1.6   1.775 1.45  1.55  1.55  1.175 1.375 1.55\n",
      " 1.2   1.375 1.45  1.475 1.625 1.4   1.25  1.625]\n"
     ]
    },
    {
     "data": {
      "text/plain": [
       "<matplotlib.axes._subplots.AxesSubplot at 0x1a17b39e50>"
      ]
     },
     "execution_count": 15,
     "metadata": {},
     "output_type": "execute_result"
    },
    {
     "data": {
      "image/png": "[encoded data removed]",
      "text/plain": [
       "<Figure size 432x288 with 1 Axes>"
      ]
     },
     "metadata": {
      "needs_background": "light"
     },
     "output_type": "display_data"
    }
   ],
   "source": [
    "# 500 means\n",
    "r = stats.binom.rvs(n, p, size=(500,40))\n",
    "# print(np.mean(r, axis=1)) #means for each of the 500 samples\n",
    "sns.distplot(np.mean(r, axis=1), kde=False) "
   ]
  },
  {
   "cell_type": "code",
   "execution_count": null,
   "metadata": {},
   "outputs": [],
   "source": []
  },
  {
   "cell_type": "code",
   "execution_count": 16,
   "metadata": {},
   "outputs": [
    {
     "data": {
      "text/plain": [
       "<matplotlib.axes._subplots.AxesSubplot at 0x1a17c4d4d0>"
      ]
     },
     "execution_count": 16,
     "metadata": {},
     "output_type": "execute_result"
    },
    {
     "data": {
      "image/png": "[encoded data removed]",
      "text/plain": [
       "<Figure size 432x288 with 1 Axes>"
      ]
     },
     "metadata": {
      "needs_background": "light"
     },
     "output_type": "display_data"
    }
   ],
   "source": [
    "# 2000 means\n",
    "r = stats.binom.rvs(n, p, size=(2000,40))\n",
    "# print(np.mean(r, axis=1)) #means for each of the 2000 samples\n",
    "sns.distplot(np.mean(r, axis=1), kde=False) "
   ]
  },
  {
   "cell_type": "code",
   "execution_count": null,
   "metadata": {},
   "outputs": [],
   "source": []
  },
  {
   "cell_type": "code",
   "execution_count": null,
   "metadata": {},
   "outputs": [],
   "source": []
  },
  {
   "cell_type": "code",
   "execution_count": 17,
   "metadata": {},
   "outputs": [
    {
     "data": {
      "text/plain": [
       "<matplotlib.axes._subplots.AxesSubplot at 0x1a17d76b90>"
      ]
     },
     "execution_count": 17,
     "metadata": {},
     "output_type": "execute_result"
    },
    {
     "data": {
      "image/png": "[encoded data removed]",
      "text/plain": [
       "<Figure size 432x288 with 1 Axes>"
      ]
     },
     "metadata": {
      "needs_background": "light"
     },
     "output_type": "display_data"
    }
   ],
   "source": [
    "# Let's start with a binomial random variables\n",
    "n = 5\n",
    "p = 0.5 \n",
    "r = stats.binom.rvs(n, p, size=100000)\n",
    "\n",
    "sns.countplot(r)"
   ]
  },
  {
   "cell_type": "code",
   "execution_count": 18,
   "metadata": {},
   "outputs": [
    {
     "data": {
      "text/plain": [
       "<matplotlib.axes._subplots.AxesSubplot at 0x1a18358b90>"
      ]
     },
     "execution_count": 18,
     "metadata": {},
     "output_type": "execute_result"
    },
    {
     "data": {
      "image/png": "[encoded data removed]",
      "text/plain": [
       "<Figure size 432x288 with 1 Axes>"
      ]
     },
     "metadata": {
      "needs_background": "light"
     },
     "output_type": "display_data"
    }
   ],
   "source": [
    "# 2000 means\n",
    "n = 5\n",
    "p = 0.5 \n",
    "r = stats.binom.rvs(n, p, size=(2000,40))\n",
    "# print(np.mean(r, axis=1)) #means for each of the 2000 samples\n",
    "sns.distplot(np.mean(r, axis=1), kde=False) "
   ]
  },
  {
   "cell_type": "code",
   "execution_count": null,
   "metadata": {},
   "outputs": [],
   "source": []
  },
  {
   "cell_type": "code",
   "execution_count": 19,
   "metadata": {},
   "outputs": [
    {
     "data": {
      "text/plain": [
       "<matplotlib.axes._subplots.AxesSubplot at 0x1a16b38690>"
      ]
     },
     "execution_count": 19,
     "metadata": {},
     "output_type": "execute_result"
    },
    {
     "data": {
      "image/png": "[encoded data removed]",
      "text/plain": [
       "<Figure size 432x288 with 1 Axes>"
      ]
     },
     "metadata": {
      "needs_background": "light"
     },
     "output_type": "display_data"
    }
   ],
   "source": [
    "# 2000 means\n",
    "n = 10\n",
    "p = 0.5 \n",
    "r = stats.binom.rvs(n, p, size=(2000,40))\n",
    "# print(np.mean(r, axis=1)) #means for each of the 2000 samples\n",
    "sns.distplot(np.mean(r, axis=1), kde=False) "
   ]
  },
  {
   "cell_type": "code",
   "execution_count": null,
   "metadata": {},
   "outputs": [],
   "source": []
  },
  {
   "cell_type": "code",
   "execution_count": 21,
   "metadata": {},
   "outputs": [
    {
     "data": {
      "text/plain": [
       "<matplotlib.axes._subplots.AxesSubplot at 0x1a182dc1d0>"
      ]
     },
     "execution_count": 21,
     "metadata": {},
     "output_type": "execute_result"
    },
    {
     "data": {
      "image/png": "[encoded data removed]",
      "text/plain": [
       "<Figure size 432x288 with 1 Axes>"
      ]
     },
     "metadata": {
      "needs_background": "light"
     },
     "output_type": "display_data"
    }
   ],
   "source": [
    "# 2000 means, with sample size of 100\n",
    "n = 10\n",
    "p = 0.5 \n",
    "r = stats.binom.rvs(n, p, size=(2000,100))\n",
    "# print(np.mean(r, axis=1)) #means for each of the 2000 samples\n",
    "sns.distplot(np.mean(r, axis=1), kde=False) "
   ]
  },
  {
   "cell_type": "code",
   "execution_count": null,
   "metadata": {},
   "outputs": [],
   "source": []
  },
  {
   "cell_type": "code",
   "execution_count": 25,
   "metadata": {},
   "outputs": [
    {
     "data": {
      "text/plain": [
       "<matplotlib.axes._subplots.AxesSubplot at 0x1a18c11490>"
      ]
     },
     "execution_count": 25,
     "metadata": {},
     "output_type": "execute_result"
    },
    {
     "data": {
      "image/png": "[encoded data removed]",
      "text/plain": [
       "<Figure size 432x288 with 1 Axes>"
      ]
     },
     "metadata": {
      "needs_background": "light"
     },
     "output_type": "display_data"
    }
   ],
   "source": [
    "# 30 means, with sample size of 50\n",
    "\n",
    "r = stats.uniform.rvs(size=(30,50))\n",
    "# print(np.mean(r, axis=1)) #means for each of the 30 samples\n",
    "sns.distplot(np.mean(r, axis=1), kde=False) "
   ]
  },
  {
   "cell_type": "code",
   "execution_count": null,
   "metadata": {},
   "outputs": [],
   "source": []
  },
  {
   "cell_type": "code",
   "execution_count": 26,
   "metadata": {},
   "outputs": [
    {
     "data": {
      "text/plain": [
       "<matplotlib.axes._subplots.AxesSubplot at 0x1a18ce2dd0>"
      ]
     },
     "execution_count": 26,
     "metadata": {},
     "output_type": "execute_result"
    },
    {
     "data": {
      "image/png": "[encoded data removed]",
      "text/plain": [
       "<Figure size 432x288 with 1 Axes>"
      ]
     },
     "metadata": {
      "needs_background": "light"
     },
     "output_type": "display_data"
    }
   ],
   "source": [
    "# 100 means, with sample size of 50\n",
    "\n",
    "r = stats.uniform.rvs(size=(100,50))\n",
    "# print(np.mean(r, axis=1)) #means for each of the 100 samples\n",
    "sns.distplot(np.mean(r, axis=1), kde=False) "
   ]
  },
  {
   "cell_type": "code",
   "execution_count": null,
   "metadata": {},
   "outputs": [],
   "source": []
  },
  {
   "cell_type": "code",
   "execution_count": 27,
   "metadata": {},
   "outputs": [
    {
     "data": {
      "text/plain": [
       "<matplotlib.axes._subplots.AxesSubplot at 0x1a18dc74d0>"
      ]
     },
     "execution_count": 27,
     "metadata": {},
     "output_type": "execute_result"
    },
    {
     "data": {
      "image/png": "[encoded data removed]",
      "text/plain": [
       "<Figure size 432x288 with 1 Axes>"
      ]
     },
     "metadata": {
      "needs_background": "light"
     },
     "output_type": "display_data"
    }
   ],
   "source": [
    "# 200 means, with sample size of 50\n",
    "\n",
    "r = stats.uniform.rvs(size=(200,50))\n",
    "# print(np.mean(r, axis=1)) #means for each of the 200 samples\n",
    "sns.distplot(np.mean(r, axis=1), kde=False) "
   ]
  },
  {
   "cell_type": "code",
   "execution_count": null,
   "metadata": {},
   "outputs": [],
   "source": []
  },
  {
   "cell_type": "code",
   "execution_count": 29,
   "metadata": {},
   "outputs": [
    {
     "data": {
      "text/plain": [
       "<matplotlib.axes._subplots.AxesSubplot at 0x1a18fd4290>"
      ]
     },
     "execution_count": 29,
     "metadata": {},
     "output_type": "execute_result"
    },
    {
     "data": {
      "image/png": "[encoded data removed]",
      "text/plain": [
       "<Figure size 432x288 with 1 Axes>"
      ]
     },
     "metadata": {
      "needs_background": "light"
     },
     "output_type": "display_data"
    }
   ],
   "source": [
    "# 1000 means, with sample size of 50\n",
    "\n",
    "r = stats.uniform.rvs(size=(1000,50))\n",
    "# print(np.mean(r, axis=1)) #means for each of the 1000 samples\n",
    "sns.distplot(np.mean(r, axis=1), kde=False) "
   ]
  },
  {
   "cell_type": "code",
   "execution_count": null,
   "metadata": {},
   "outputs": [],
   "source": []
  },
  {
   "cell_type": "code",
   "execution_count": 28,
   "metadata": {},
   "outputs": [
    {
     "data": {
      "text/plain": [
       "<matplotlib.axes._subplots.AxesSubplot at 0x1a16b33bd0>"
      ]
     },
     "execution_count": 28,
     "metadata": {},
     "output_type": "execute_result"
    },
    {
     "data": {
      "image/png": "[encoded data removed]",
      "text/plain": [
       "<Figure size 432x288 with 1 Axes>"
      ]
     },
     "metadata": {
      "needs_background": "light"
     },
     "output_type": "display_data"
    }
   ],
   "source": [
    "# 2000 means, with sample size of 50\n",
    "\n",
    "r = stats.uniform.rvs(size=(2000,50))\n",
    "# print(np.mean(r, axis=1)) #means for each of the 2000 samples\n",
    "sns.distplot(np.mean(r, axis=1), kde=False) "
   ]
  },
  {
   "cell_type": "code",
   "execution_count": null,
   "metadata": {},
   "outputs": [],
   "source": []
  },
  {
   "cell_type": "code",
   "execution_count": 32,
   "metadata": {},
   "outputs": [
    {
     "data": {
      "text/plain": [
       "<matplotlib.axes._subplots.AxesSubplot at 0x1a192c6210>"
      ]
     },
     "execution_count": 32,
     "metadata": {},
     "output_type": "execute_result"
    },
    {
     "data": {
      "image/png": "[encoded data removed]",
      "text/plain": [
       "<Figure size 432x288 with 1 Axes>"
      ]
     },
     "metadata": {
      "needs_background": "light"
     },
     "output_type": "display_data"
    }
   ],
   "source": [
    "# 2000 means, with sample size of 100\n",
    "\n",
    "r = stats.uniform.rvs(size=(2000,100))\n",
    "# print(np.mean(r, axis=1)) #means for each of the 2000 samples\n",
    "sns.distplot(np.mean(r, axis=1), kde=False) "
   ]
  },
  {
   "cell_type": "code",
   "execution_count": null,
   "metadata": {},
   "outputs": [],
   "source": []
  },
  {
   "cell_type": "code",
   "execution_count": 35,
   "metadata": {},
   "outputs": [
    {
     "data": {
      "text/plain": [
       "<matplotlib.axes._subplots.AxesSubplot at 0x1a1964e790>"
      ]
     },
     "execution_count": 35,
     "metadata": {},
     "output_type": "execute_result"
    },
    {
     "data": {
      "image/png": "[encoded data removed]",
      "text/plain": [
       "<Figure size 432x288 with 1 Axes>"
      ]
     },
     "metadata": {
      "needs_background": "light"
     },
     "output_type": "display_data"
    }
   ],
   "source": [
    "# 2000 means, with sample size of 100 of t distribution with df = 3\n",
    "\n",
    "r = stats.t.rvs(df = 3, size = (2000,100))\n",
    "# print(np.mean(r, axis=1)) #means for each of the 2000 samples\n",
    "sns.distplot(np.mean(r, axis=1), kde=False) "
   ]
  },
  {
   "cell_type": "code",
   "execution_count": null,
   "metadata": {},
   "outputs": [],
   "source": []
  },
  {
   "cell_type": "markdown",
   "metadata": {},
   "source": [
    "Exponential distribution"
   ]
  },
  {
   "cell_type": "code",
   "execution_count": 41,
   "metadata": {},
   "outputs": [
    {
     "data": {
      "text/plain": [
       "<matplotlib.axes._subplots.AxesSubplot at 0x1a19e4c1d0>"
      ]
     },
     "execution_count": 41,
     "metadata": {},
     "output_type": "execute_result"
    },
    {
     "data": {
      "image/png": "[encoded data removed]",
      "text/plain": [
       "<Figure size 432x288 with 1 Axes>"
      ]
     },
     "metadata": {
      "needs_background": "light"
     },
     "output_type": "display_data"
    }
   ],
   "source": [
    "r = stats.expon.rvs(scale=1, size=100000)\n",
    "sns.distplot(r, kde=False)"
   ]
  },
  {
   "cell_type": "code",
   "execution_count": 42,
   "metadata": {},
   "outputs": [
    {
     "data": {
      "text/plain": [
       "<matplotlib.axes._subplots.AxesSubplot at 0x1a16e9b690>"
      ]
     },
     "execution_count": 42,
     "metadata": {},
     "output_type": "execute_result"
    },
    {
     "data": {
      "image/png": "[encoded data removed]",
      "text/plain": [
       "<Figure size 432x288 with 1 Axes>"
      ]
     },
     "metadata": {
      "needs_background": "light"
     },
     "output_type": "display_data"
    }
   ],
   "source": [
    "# 2000 means, with sample size of 100 of exponential distribution with scale = 1\n",
    "\n",
    "r = stats.expon.rvs(scale = 1, size = (2000,100))\n",
    "# print(np.mean(r, axis=1)) #means for each of the 2000 samples\n",
    "sns.distplot(np.mean(r, axis=1), kde=False) "
   ]
  },
  {
   "cell_type": "code",
   "execution_count": null,
   "metadata": {},
   "outputs": [],
   "source": []
  },
  {
   "cell_type": "code",
   "execution_count": null,
   "metadata": {},
   "outputs": [],
   "source": []
  },
  {
   "cell_type": "code",
   "execution_count": null,
   "metadata": {},
   "outputs": [],
   "source": []
  },
  {
   "cell_type": "code",
   "execution_count": null,
   "metadata": {},
   "outputs": [],
   "source": []
  }
 ],
 "metadata": {
  "kernelspec": {
   "display_name": "Python 3",
   "language": "python",
   "name": "python3"
  },
  "language_info": {
   "codemirror_mode": {
    "name": "ipython",
    "version": 3
   },
   "file_extension": ".py",
   "mimetype": "text/x-python",
   "name": "python",
   "nbconvert_exporter": "python",
   "pygments_lexer": "ipython3",
   "version": "3.7.7"
  }
 },
 "nbformat": 4,
 "nbformat_minor": 4
}
