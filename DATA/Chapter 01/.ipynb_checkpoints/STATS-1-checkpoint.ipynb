{
 "cells": [
  {
   "cell_type": "code",
   "execution_count": 36,
   "metadata": {},
   "outputs": [],
   "source": [
    "import pandas as pd\n",
    "import numpy as np\n",
    "from scipy import stats\n",
    "import seaborn as sns\n",
    "import os"
   ]
  },
  {
   "cell_type": "code",
   "execution_count": 60,
   "metadata": {},
   "outputs": [
    {
     "name": "stdout",
     "output_type": "stream",
     "text": [
      "<class 'pandas.core.frame.DataFrame'>\n",
      "RangeIndex: 212 entries, 0 to 211\n",
      "Data columns (total 6 columns):\n",
      " #   Column         Non-Null Count  Dtype  \n",
      "---  ------         --------------  -----  \n",
      " 0   BEER           212 non-null    object \n",
      " 1   Brewery        212 non-null    object \n",
      " 2   Calories       212 non-null    int64  \n",
      " 3   Carbohydrates  173 non-null    float64\n",
      " 4   Alcohol        212 non-null    float64\n",
      " 5   Type           212 non-null    object \n",
      "dtypes: float64(2), int64(1), object(3)\n",
      "memory usage: 10.1+ KB\n"
     ]
    }
   ],
   "source": [
    "file = 'EX02-055BEER.csv'\n",
    "path = os.path.join('..','Chapter 2', file)\n",
    "df = pd.read_csv(path)\n",
    "df.info()"
   ]
  },
  {
   "cell_type": "markdown",
   "metadata": {},
   "source": [
    "YOU CAN ONLY DO STATS AFTER YOU ANALYZE THE DATA! WHY? BECAUSE YOU HAVE TO KNOW WHAT QUESTIONS YOU WANT TO ASK!!"
   ]
  },
  {
   "cell_type": "code",
   "execution_count": 61,
   "metadata": {},
   "outputs": [
    {
     "data": {
      "text/html": [
       "<div>\n",
       "<style scoped>\n",
       "    .dataframe tbody tr th:only-of-type {\n",
       "        vertical-align: middle;\n",
       "    }\n",
       "\n",
       "    .dataframe tbody tr th {\n",
       "        vertical-align: top;\n",
       "    }\n",
       "\n",
       "    .dataframe thead th {\n",
       "        text-align: right;\n",
       "    }\n",
       "</style>\n",
       "<table border=\"1\" class=\"dataframe\">\n",
       "  <thead>\n",
       "    <tr style=\"text-align: right;\">\n",
       "      <th></th>\n",
       "      <th>Calories</th>\n",
       "      <th>Carbohydrates</th>\n",
       "      <th>Alcohol</th>\n",
       "    </tr>\n",
       "  </thead>\n",
       "  <tbody>\n",
       "    <tr>\n",
       "      <th>count</th>\n",
       "      <td>212.000000</td>\n",
       "      <td>173.000000</td>\n",
       "      <td>212.000000</td>\n",
       "    </tr>\n",
       "    <tr>\n",
       "      <th>mean</th>\n",
       "      <td>153.938679</td>\n",
       "      <td>11.948671</td>\n",
       "      <td>5.171557</td>\n",
       "    </tr>\n",
       "    <tr>\n",
       "      <th>std</th>\n",
       "      <td>41.389733</td>\n",
       "      <td>4.877972</td>\n",
       "      <td>1.337357</td>\n",
       "    </tr>\n",
       "    <tr>\n",
       "      <th>min</th>\n",
       "      <td>55.000000</td>\n",
       "      <td>1.900000</td>\n",
       "      <td>0.400000</td>\n",
       "    </tr>\n",
       "    <tr>\n",
       "      <th>25%</th>\n",
       "      <td>135.000000</td>\n",
       "      <td>8.700000</td>\n",
       "      <td>4.422500</td>\n",
       "    </tr>\n",
       "    <tr>\n",
       "      <th>50%</th>\n",
       "      <td>150.000000</td>\n",
       "      <td>12.000000</td>\n",
       "      <td>4.900000</td>\n",
       "    </tr>\n",
       "    <tr>\n",
       "      <th>75%</th>\n",
       "      <td>163.500000</td>\n",
       "      <td>14.300000</td>\n",
       "      <td>5.600000</td>\n",
       "    </tr>\n",
       "    <tr>\n",
       "      <th>max</th>\n",
       "      <td>330.000000</td>\n",
       "      <td>32.100000</td>\n",
       "      <td>11.500000</td>\n",
       "    </tr>\n",
       "  </tbody>\n",
       "</table>\n",
       "</div>"
      ],
      "text/plain": [
       "         Calories  Carbohydrates     Alcohol\n",
       "count  212.000000     173.000000  212.000000\n",
       "mean   153.938679      11.948671    5.171557\n",
       "std     41.389733       4.877972    1.337357\n",
       "min     55.000000       1.900000    0.400000\n",
       "25%    135.000000       8.700000    4.422500\n",
       "50%    150.000000      12.000000    4.900000\n",
       "75%    163.500000      14.300000    5.600000\n",
       "max    330.000000      32.100000   11.500000"
      ]
     },
     "execution_count": 61,
     "metadata": {},
     "output_type": "execute_result"
    }
   ],
   "source": [
    "df.describe()"
   ]
  },
  {
   "cell_type": "code",
   "execution_count": 65,
   "metadata": {},
   "outputs": [
    {
     "data": {
      "text/plain": [
       "Sierra Nevada Celebration Ale       1\n",
       "Bud Light Platinum                  1\n",
       "Great Wall                          1\n",
       "Mickey's Fine Malt Liquor           1\n",
       "Olde English 800                    1\n",
       "                                   ..\n",
       "Miller Lite                         1\n",
       "Flying Dog Old Scratch Amber Ale    1\n",
       "Mickey's Ice                        1\n",
       "O'Doul's                            1\n",
       "Schaefer Beer                       1\n",
       "Name: BEER, Length: 212, dtype: int64"
      ]
     },
     "execution_count": 65,
     "metadata": {},
     "output_type": "execute_result"
    }
   ],
   "source": [
    "df.BEER.value_counts()"
   ]
  },
  {
   "cell_type": "code",
   "execution_count": 81,
   "metadata": {},
   "outputs": [
    {
     "data": {
      "text/plain": [
       "MillerCoors                              40\n",
       "Flying Dog Brewery                       17\n",
       "Sierra Nevada                            13\n",
       "Anheuser Busch                           13\n",
       "Budweiser                                10\n",
       "                                         ..\n",
       "Beer Pilsener Urquell Pilzen (Czech.)     1\n",
       "Tollei-ache & Cobbold (England)           1\n",
       "Cauhtemoc (Mexico)                        1\n",
       "Spaten-Brau (Germany)                     1\n",
       "Wurtzburger Hofbrauag (Germany)           1\n",
       "Name: Brewery, Length: 68, dtype: int64"
      ]
     },
     "execution_count": 81,
     "metadata": {},
     "output_type": "execute_result"
    }
   ],
   "source": [
    "df.Brewery.value_counts()"
   ]
  },
  {
   "cell_type": "code",
   "execution_count": 82,
   "metadata": {},
   "outputs": [
    {
     "data": {
      "text/plain": [
       "Domestic    159\n",
       "Imported     53\n",
       "Name: Type, dtype: int64"
      ]
     },
     "execution_count": 82,
     "metadata": {},
     "output_type": "execute_result"
    }
   ],
   "source": [
    "df.Type.value_counts()"
   ]
  },
  {
   "cell_type": "code",
   "execution_count": 83,
   "metadata": {},
   "outputs": [],
   "source": [
    "# high_alcohol = df['Alcohol'] > 4.9"
   ]
  },
  {
   "cell_type": "code",
   "execution_count": 84,
   "metadata": {},
   "outputs": [],
   "source": [
    "df.loc[:,'high_alcohol'] = df['Alcohol'] > df['Alcohol'].median()"
   ]
  },
  {
   "cell_type": "code",
   "execution_count": 86,
   "metadata": {},
   "outputs": [],
   "source": [
    "df.loc[:, 'high_carbs'] = df['Carbohydrates'] > df['Carbohydrates'].median()"
   ]
  },
  {
   "cell_type": "code",
   "execution_count": 88,
   "metadata": {},
   "outputs": [],
   "source": [
    "df.loc[:,'high_calories'] = df['Calories'] > df['Calories'].median()"
   ]
  },
  {
   "cell_type": "code",
   "execution_count": 89,
   "metadata": {},
   "outputs": [
    {
     "data": {
      "text/html": [
       "<div>\n",
       "<style scoped>\n",
       "    .dataframe tbody tr th:only-of-type {\n",
       "        vertical-align: middle;\n",
       "    }\n",
       "\n",
       "    .dataframe tbody tr th {\n",
       "        vertical-align: top;\n",
       "    }\n",
       "\n",
       "    .dataframe thead th {\n",
       "        text-align: right;\n",
       "    }\n",
       "</style>\n",
       "<table border=\"1\" class=\"dataframe\">\n",
       "  <thead>\n",
       "    <tr style=\"text-align: right;\">\n",
       "      <th></th>\n",
       "      <th>BEER</th>\n",
       "      <th>Brewery</th>\n",
       "      <th>Calories</th>\n",
       "      <th>Carbohydrates</th>\n",
       "      <th>Alcohol</th>\n",
       "      <th>Type</th>\n",
       "      <th>high_alcohol</th>\n",
       "      <th>high_carbs</th>\n",
       "      <th>high_calories</th>\n",
       "    </tr>\n",
       "  </thead>\n",
       "  <tbody>\n",
       "    <tr>\n",
       "      <th>0</th>\n",
       "      <td>American Amber Lager</td>\n",
       "      <td>Straub Brewery</td>\n",
       "      <td>136</td>\n",
       "      <td>10.5</td>\n",
       "      <td>4.10</td>\n",
       "      <td>Domestic</td>\n",
       "      <td>False</td>\n",
       "      <td>False</td>\n",
       "      <td>False</td>\n",
       "    </tr>\n",
       "    <tr>\n",
       "      <th>1</th>\n",
       "      <td>American Lager</td>\n",
       "      <td>Straub Brewery</td>\n",
       "      <td>132</td>\n",
       "      <td>10.5</td>\n",
       "      <td>4.10</td>\n",
       "      <td>Domestic</td>\n",
       "      <td>False</td>\n",
       "      <td>False</td>\n",
       "      <td>False</td>\n",
       "    </tr>\n",
       "    <tr>\n",
       "      <th>2</th>\n",
       "      <td>American Light</td>\n",
       "      <td>Straub Brewery</td>\n",
       "      <td>96</td>\n",
       "      <td>7.6</td>\n",
       "      <td>3.20</td>\n",
       "      <td>Domestic</td>\n",
       "      <td>False</td>\n",
       "      <td>False</td>\n",
       "      <td>False</td>\n",
       "    </tr>\n",
       "    <tr>\n",
       "      <th>3</th>\n",
       "      <td>Anchor Steam</td>\n",
       "      <td>Anchor</td>\n",
       "      <td>153</td>\n",
       "      <td>16.0</td>\n",
       "      <td>4.90</td>\n",
       "      <td>Domestic</td>\n",
       "      <td>False</td>\n",
       "      <td>True</td>\n",
       "      <td>True</td>\n",
       "    </tr>\n",
       "    <tr>\n",
       "      <th>4</th>\n",
       "      <td>Anheuser Busch Natural Light</td>\n",
       "      <td>Anheuser Busch</td>\n",
       "      <td>95</td>\n",
       "      <td>3.2</td>\n",
       "      <td>4.20</td>\n",
       "      <td>Domestic</td>\n",
       "      <td>False</td>\n",
       "      <td>False</td>\n",
       "      <td>False</td>\n",
       "    </tr>\n",
       "    <tr>\n",
       "      <th>...</th>\n",
       "      <td>...</td>\n",
       "      <td>...</td>\n",
       "      <td>...</td>\n",
       "      <td>...</td>\n",
       "      <td>...</td>\n",
       "      <td>...</td>\n",
       "      <td>...</td>\n",
       "      <td>...</td>\n",
       "      <td>...</td>\n",
       "    </tr>\n",
       "    <tr>\n",
       "      <th>207</th>\n",
       "      <td>Tolly Origlnal Premium Ale</td>\n",
       "      <td>Tollei-ache &amp; Cobbold (England)</td>\n",
       "      <td>146</td>\n",
       "      <td>NaN</td>\n",
       "      <td>4.85</td>\n",
       "      <td>Imported</td>\n",
       "      <td>False</td>\n",
       "      <td>False</td>\n",
       "      <td>False</td>\n",
       "    </tr>\n",
       "    <tr>\n",
       "      <th>208</th>\n",
       "      <td>Tsingtao Beer</td>\n",
       "      <td>Tsingtao (China)</td>\n",
       "      <td>153</td>\n",
       "      <td>NaN</td>\n",
       "      <td>4.79</td>\n",
       "      <td>Imported</td>\n",
       "      <td>False</td>\n",
       "      <td>False</td>\n",
       "      <td>True</td>\n",
       "    </tr>\n",
       "    <tr>\n",
       "      <th>209</th>\n",
       "      <td>Watney's Red Barrel Beer</td>\n",
       "      <td>Stag (England)</td>\n",
       "      <td>142</td>\n",
       "      <td>NaN</td>\n",
       "      <td>3.92</td>\n",
       "      <td>Imported</td>\n",
       "      <td>False</td>\n",
       "      <td>False</td>\n",
       "      <td>False</td>\n",
       "    </tr>\n",
       "    <tr>\n",
       "      <th>210</th>\n",
       "      <td>Wurzburger Hofbrau</td>\n",
       "      <td>Wurtzburger Hofbrauag (Germany)</td>\n",
       "      <td>160</td>\n",
       "      <td>NaN</td>\n",
       "      <td>5.42</td>\n",
       "      <td>Imported</td>\n",
       "      <td>True</td>\n",
       "      <td>False</td>\n",
       "      <td>True</td>\n",
       "    </tr>\n",
       "    <tr>\n",
       "      <th>211</th>\n",
       "      <td>Wurtzburger Hofbrau Light</td>\n",
       "      <td>Wurtzburger Hofbrau Ag (Germany)</td>\n",
       "      <td>153</td>\n",
       "      <td>NaN</td>\n",
       "      <td>5.44</td>\n",
       "      <td>Imported</td>\n",
       "      <td>True</td>\n",
       "      <td>False</td>\n",
       "      <td>True</td>\n",
       "    </tr>\n",
       "  </tbody>\n",
       "</table>\n",
       "<p>212 rows × 9 columns</p>\n",
       "</div>"
      ],
      "text/plain": [
       "                             BEER                           Brewery  Calories  \\\n",
       "0            American Amber Lager                    Straub Brewery       136   \n",
       "1                  American Lager                    Straub Brewery       132   \n",
       "2                  American Light                    Straub Brewery        96   \n",
       "3                    Anchor Steam                            Anchor       153   \n",
       "4    Anheuser Busch Natural Light                    Anheuser Busch        95   \n",
       "..                            ...                               ...       ...   \n",
       "207    Tolly Origlnal Premium Ale   Tollei-ache & Cobbold (England)       146   \n",
       "208                 Tsingtao Beer                  Tsingtao (China)       153   \n",
       "209      Watney's Red Barrel Beer                    Stag (England)       142   \n",
       "210            Wurzburger Hofbrau   Wurtzburger Hofbrauag (Germany)       160   \n",
       "211     Wurtzburger Hofbrau Light  Wurtzburger Hofbrau Ag (Germany)       153   \n",
       "\n",
       "     Carbohydrates  Alcohol      Type  high_alcohol  high_carbs  high_calories  \n",
       "0             10.5     4.10  Domestic         False       False          False  \n",
       "1             10.5     4.10  Domestic         False       False          False  \n",
       "2              7.6     3.20  Domestic         False       False          False  \n",
       "3             16.0     4.90  Domestic         False        True           True  \n",
       "4              3.2     4.20  Domestic         False       False          False  \n",
       "..             ...      ...       ...           ...         ...            ...  \n",
       "207            NaN     4.85  Imported         False       False          False  \n",
       "208            NaN     4.79  Imported         False       False           True  \n",
       "209            NaN     3.92  Imported         False       False          False  \n",
       "210            NaN     5.42  Imported          True       False           True  \n",
       "211            NaN     5.44  Imported          True       False           True  \n",
       "\n",
       "[212 rows x 9 columns]"
      ]
     },
     "execution_count": 89,
     "metadata": {},
     "output_type": "execute_result"
    }
   ],
   "source": [
    "# Given this dataframe, what kind of questions could we ask about this data?\n",
    "df"
   ]
  },
  {
   "cell_type": "code",
   "execution_count": null,
   "metadata": {},
   "outputs": [],
   "source": []
  },
  {
   "cell_type": "code",
   "execution_count": 63,
   "metadata": {},
   "outputs": [
    {
     "data": {
      "text/plain": [
       "<matplotlib.axes._subplots.AxesSubplot at 0x1a2afaa550>"
      ]
     },
     "execution_count": 63,
     "metadata": {},
     "output_type": "execute_result"
    },
    {
     "data": {
      "image/png": "[encoded data removed]",
      "text/plain": [
       "<Figure size 432x288 with 1 Axes>"
      ]
     },
     "metadata": {
      "needs_background": "light"
     },
     "output_type": "display_data"
    }
   ],
   "source": [
    "sns.boxplot(x='Type', y='Calories', data=df)"
   ]
  },
  {
   "cell_type": "code",
   "execution_count": null,
   "metadata": {},
   "outputs": [],
   "source": []
  }
 ],
 "metadata": {
  "kernelspec": {
   "display_name": "Python 3",
   "language": "python",
   "name": "python3"
  },
  "language_info": {
   "codemirror_mode": {
    "name": "ipython",
    "version": 3
   },
   "file_extension": ".py",
   "mimetype": "text/x-python",
   "name": "python",
   "nbconvert_exporter": "python",
   "pygments_lexer": "ipython3",
   "version": "3.7.7"
  }
 },
 "nbformat": 4,
 "nbformat_minor": 4
}
