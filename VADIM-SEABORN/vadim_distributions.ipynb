{
 "cells": [
  {
   "cell_type": "markdown",
   "metadata": {},
   "source": [
    "# **Welcome to Distributions**"
   ]
  },
  {
   "cell_type": "markdown",
   "metadata": {},
   "source": [
    "## 1.0 Housekeeping"
   ]
  },
  {
   "cell_type": "markdown",
   "metadata": {},
   "source": [
    "Click **Shift + Tab** inside any function to see **\"Help\"**, it's list of possible inputs and options"
   ]
  },
  {
   "cell_type": "markdown",
   "metadata": {},
   "source": [
    "#### Import numpy and pandas for dataframes"
   ]
  },
  {
   "cell_type": "code",
   "execution_count": 12,
   "metadata": {},
   "outputs": [],
   "source": [
    "import numpy as np\n",
    "import pandas as pd"
   ]
  },
  {
   "cell_type": "markdown",
   "metadata": {},
   "source": [
    "#### Import Seaborn for plots"
   ]
  },
  {
   "cell_type": "code",
   "execution_count": 13,
   "metadata": {},
   "outputs": [],
   "source": [
    "import matplotlib.pyplot as plt\n",
    "import seaborn as sns\n"
   ]
  },
  {
   "cell_type": "markdown",
   "metadata": {},
   "source": [
    "#### Install and Import SciPy\n",
    "It contains modules for statistics, optimization, linear algebra, integration, interpolation, image processing, and other tasks common in science and engineering <br/>\n",
    "Import the binomial distribution, normal test, Shapiro-Wilk test and Anderson-Darling test submodules"
   ]
  },
  {
   "cell_type": "code",
   "execution_count": 14,
   "metadata": {},
   "outputs": [],
   "source": [
    "#!conda install scipy -y\n",
    "import scipy\n",
    "from scipy.stats import binom\n",
    "from scipy.stats import normaltest\n",
    "from scipy.stats import shapiro\n",
    "from scipy.stats import anderson"
   ]
  },
  {
   "cell_type": "markdown",
   "metadata": {},
   "source": [
    "#### Install and import statsmodels \n",
    "It provides classes and functions for the estimation of many different statistical models, as well as for conducting statistical tests, and statistical data exploration."
   ]
  },
  {
   "cell_type": "code",
   "execution_count": 15,
   "metadata": {},
   "outputs": [],
   "source": [
    "from statsmodels.graphics.gofplots import qqplot"
   ]
  },
  {
   "cell_type": "markdown",
   "metadata": {},
   "source": [
    "#### Install and Import Random\n",
    "It does exactly what you think it does"
   ]
  },
  {
   "cell_type": "code",
   "execution_count": 16,
   "metadata": {},
   "outputs": [],
   "source": [
    "import random\n",
    "from random import randint"
   ]
  },
  {
   "cell_type": "markdown",
   "metadata": {},
   "source": [
    "#### Import sample dataframe for later use"
   ]
  },
  {
   "cell_type": "code",
   "execution_count": 17,
   "metadata": {},
   "outputs": [],
   "source": [
    "dataframe = pd.read_csv('seaborn_data.csv')"
   ]
  },
  {
   "cell_type": "code",
   "execution_count": 18,
   "metadata": {},
   "outputs": [
    {
     "data": {
      "text/html": [
       "<div>\n",
       "<style scoped>\n",
       "    .dataframe tbody tr th:only-of-type {\n",
       "        vertical-align: middle;\n",
       "    }\n",
       "\n",
       "    .dataframe tbody tr th {\n",
       "        vertical-align: top;\n",
       "    }\n",
       "\n",
       "    .dataframe thead th {\n",
       "        text-align: right;\n",
       "    }\n",
       "</style>\n",
       "<table border=\"1\" class=\"dataframe\">\n",
       "  <thead>\n",
       "    <tr style=\"text-align: right;\">\n",
       "      <th></th>\n",
       "      <th>Date</th>\n",
       "      <th>Week</th>\n",
       "      <th>Week_ID</th>\n",
       "      <th>Month</th>\n",
       "      <th>Month_ID</th>\n",
       "      <th>Year</th>\n",
       "      <th>Day_Name</th>\n",
       "      <th>Visitors</th>\n",
       "      <th>Revenue</th>\n",
       "      <th>Marketing Spend</th>\n",
       "      <th>Promo</th>\n",
       "    </tr>\n",
       "  </thead>\n",
       "  <tbody>\n",
       "    <tr>\n",
       "      <th>0</th>\n",
       "      <td>09/11/2020</td>\n",
       "      <td>46</td>\n",
       "      <td>34</td>\n",
       "      <td>11</td>\n",
       "      <td>11</td>\n",
       "      <td>2020</td>\n",
       "      <td>Monday</td>\n",
       "      <td>707</td>\n",
       "      <td>465</td>\n",
       "      <td>651.375</td>\n",
       "      <td>No Promo</td>\n",
       "    </tr>\n",
       "    <tr>\n",
       "      <th>1</th>\n",
       "      <td>10/11/2020</td>\n",
       "      <td>46</td>\n",
       "      <td>34</td>\n",
       "      <td>11</td>\n",
       "      <td>11</td>\n",
       "      <td>2020</td>\n",
       "      <td>Tuesday</td>\n",
       "      <td>1455</td>\n",
       "      <td>10386</td>\n",
       "      <td>1298.250</td>\n",
       "      <td>Promotion Red</td>\n",
       "    </tr>\n",
       "  </tbody>\n",
       "</table>\n",
       "</div>"
      ],
      "text/plain": [
       "         Date  Week  Week_ID  Month  Month_ID  Year Day_Name  Visitors  \\\n",
       "0  09/11/2020    46       34     11        11  2020   Monday       707   \n",
       "1  10/11/2020    46       34     11        11  2020  Tuesday      1455   \n",
       "\n",
       "   Revenue  Marketing Spend          Promo  \n",
       "0      465          651.375       No Promo  \n",
       "1    10386         1298.250  Promotion Red  "
      ]
     },
     "execution_count": 18,
     "metadata": {},
     "output_type": "execute_result"
    }
   ],
   "source": [
    "dataframe.head(2)"
   ]
  },
  {
   "cell_type": "markdown",
   "metadata": {},
   "source": [
    "#### Height Survey"
   ]
  },
  {
   "cell_type": "code",
   "execution_count": 19,
   "metadata": {},
   "outputs": [
    {
     "name": "stdin",
     "output_type": "stream",
     "text": [
      " 6\n",
      " 2\n"
     ]
    },
    {
     "name": "stdout",
     "output_type": "stream",
     "text": [
      "6.166666666666667\n"
     ]
    }
   ],
   "source": [
    "feet = int(input())\n",
    "inches = int(input())\n",
    "\n",
    "def decimal_feet(feet, inches):\n",
    "    return feet + inches/12\n",
    "\n",
    "print(decimal_feet(feet, inches))"
   ]
  },
  {
   "cell_type": "markdown",
   "metadata": {},
   "source": [
    "#### List of heights"
   ]
  },
  {
   "cell_type": "code",
   "execution_count": 36,
   "metadata": {},
   "outputs": [],
   "source": [
    "heights = [5+ i/20 for i in range(20)]"
   ]
  },
  {
   "cell_type": "markdown",
   "metadata": {},
   "source": [
    "# 2.0 Distributions"
   ]
  },
  {
   "cell_type": "markdown",
   "metadata": {},
   "source": [
    " - > **Statistical Distribution** - an arrangement of values of a variable showing their observed or theoretical frequency of occurrence"
   ]
  },
  {
   "cell_type": "markdown",
   "metadata": {},
   "source": [
    "## **2.1 Uniform Distribution**\n",
    "Discrete Uniform Distribution: https://en.wikipedia.org/wiki/Discrete_uniform_distribution <br />\n",
    "Contunuous Uniform Distribution: https://en.wikipedia.org/wiki/Uniform_distribution_(continuous)\n",
    "\n",
    "- > A symmetric probability distribution wherein a finite number of values are equally likely to be observed; every one of n values has equal probability 1/n. Another way of saying \"discrete uniform distribution\" would be \"a known, finite number of outcomes equally likely to happen\"\n",
    "- > If we roll fair, six-sided dice we would expect each number 1-6 to have the same **1/6** or **0.167** chance of realization as each other"
   ]
  },
  {
   "cell_type": "code",
   "execution_count": 37,
   "metadata": {},
   "outputs": [],
   "source": [
    "# if you consider repeatedly rolling a six sided die you might expect a uniform ditribution\n",
    "\n",
    "lst =[1,1,1,2,2,2,3,3,3,4,4,4,5,5,5,6,6,6 ]\n",
    "\n",
    "def mean(lst): \n",
    "    return sum(lst) / len(lst)\n",
    "\n",
    "mean = mean(lst)"
   ]
  },
  {
   "cell_type": "code",
   "execution_count": 38,
   "metadata": {},
   "outputs": [
    {
     "data": {
      "text/plain": [
       "<matplotlib.axes._subplots.AxesSubplot at 0x1a1d51f310>"
      ]
     },
     "execution_count": 38,
     "metadata": {},
     "output_type": "execute_result"
    },
    {
     "data": {
      "image/png": "[encoded data removed]",
      "text/plain": [
       "<Figure size 576x576 with 1 Axes>"
      ]
     },
     "metadata": {},
     "output_type": "display_data"
    }
   ],
   "source": [
    "number = [1,2,3,4,5,6]\n",
    "probability = [0.167,0.167,0.167,0.167,0.167,0.167]\n",
    "\n",
    "sns.barplot(x = number, y = probability, color = '#7B9FDA')"
   ]
  },
  {
   "cell_type": "code",
   "execution_count": 39,
   "metadata": {},
   "outputs": [
    {
     "data": {
      "text/plain": [
       "<matplotlib.lines.Line2D at 0x1a1d2987d0>"
      ]
     },
     "execution_count": 39,
     "metadata": {},
     "output_type": "execute_result"
    },
    {
     "data": {
      "image/png": "[encoded data removed]",
      "text/plain": [
       "<Figure size 720x432 with 1 Axes>"
      ]
     },
     "metadata": {},
     "output_type": "display_data"
    }
   ],
   "source": [
    "sns.set(rc={'figure.figsize': (10, 6)})\n",
    "#sns.set_context('poster')\n",
    "#sns.set_style('ticks')\n",
    "\n",
    "sns.distplot(lst)\n",
    "plt.axvline(mean, 0, 1, color = 'red')\n",
    "\n",
    "# mean = 3.5, stdev = 1.7"
   ]
  },
  {
   "cell_type": "markdown",
   "metadata": {},
   "source": [
    "- > the Y  axis represents probability density\n"
   ]
  },
  {
   "cell_type": "markdown",
   "metadata": {},
   "source": [
    "## Converging on the Ideal"
   ]
  },
  {
   "cell_type": "markdown",
   "metadata": {},
   "source": [
    "#### Philosopher kings\n",
    "\n",
    "https://en.wikipedia.org/wiki/Ludwig_Wittgenstein <br />\n",
    "https://en.wikipedia.org/wiki/Bertrand_Russell <br />\n",
    "https://en.wikipedia.org/wiki/Alfred_North_Whitehead <br />"
   ]
  },
  {
   "cell_type": "code",
   "execution_count": 40,
   "metadata": {},
   "outputs": [
    {
     "name": "stdout",
     "output_type": "stream",
     "text": [
      "[6, 5, 5, 2, 6, 6, 4, 4, 2, 3, 6, 5, 4, 2, 4, 2, 1, 1]\n"
     ]
    }
   ],
   "source": [
    "random_rolls = [] \n",
    "\n",
    "for x in range(18):\n",
    "    random_rolls.append(randint(1,6))\n",
    "print(random_rolls)\n"
   ]
  },
  {
   "cell_type": "code",
   "execution_count": 41,
   "metadata": {},
   "outputs": [
    {
     "data": {
      "text/plain": [
       "<matplotlib.lines.Line2D at 0x1a1dde48d0>"
      ]
     },
     "execution_count": 41,
     "metadata": {},
     "output_type": "execute_result"
    },
    {
     "data": {
      "image/png": "[encoded data removed]",
      "text/plain": [
       "<Figure size 720x432 with 1 Axes>"
      ]
     },
     "metadata": {},
     "output_type": "display_data"
    }
   ],
   "source": [
    "sns.distplot(random_rolls)\n",
    "plt.axvline(mean, 0, 1, color = 'red')"
   ]
  },
  {
   "cell_type": "markdown",
   "metadata": {},
   "source": [
    "![title](pdf.jpg)"
   ]
  },
  {
   "cell_type": "markdown",
   "metadata": {},
   "source": [
    "![title](Bertrand.jpg)"
   ]
  },
  {
   "cell_type": "markdown",
   "metadata": {},
   "source": [
    "Information is not knowledge <br />\n",
    "Knowledge is not wisdom <br />\n",
    "Wisdom is not truth <br />\n",
    "Truth is not beauty <br />\n",
    "<br />\n",
    "Frank Zappa"
   ]
  },
  {
   "cell_type": "markdown",
   "metadata": {},
   "source": [
    "![title](bellagio-hotel-and-casino-fountain-clint-buhler.jpg)"
   ]
  },
  {
   "cell_type": "markdown",
   "metadata": {},
   "source": [
    "# The house always wins"
   ]
  },
  {
   "cell_type": "markdown",
   "metadata": {},
   "source": [
    "## **2.2 Binomial distribution (discrete)**\n",
    "\n",
    "The probability of a SUCCESS or FAILURE outcome in an experiment or survey that is repeated multiple times. The binomial is a type of distribution that has two possible outcomes. <br/>\n",
    "The importance of understanding binary distributions can't be overstated. \n",
    "AB tests, \"Democrats or Republicans\" polls, \"effective vs ineffective\" medical trials are all often posed a simple \"pass\" or \"fail\" experiments\n",
    "\n",
    "\n",
    "For example, a coin toss has only two possible outcomes: heads or tails and taking a test could have two possible outcomes: pass or fail.\n",
    "\n",
    "- > The first variable in the binomial formula, n, stands for the number of times the experiment runs.\n",
    "\n",
    "- > The second variable, p, represents the probability of one specific outcome.\n"
   ]
  },
  {
   "cell_type": "markdown",
   "metadata": {},
   "source": [
    "#### Criteria\n",
    "Binomial distributions must also meet the following three criteria:\n",
    "\n",
    "\n",
    "- > The number of observations or trials is fixed. In other words, you can only figure out the probability of something happening if you do it a certain number of times. This is common sense—if you toss a coin once, your probability of getting a tails is 50%. If you toss a coin a 20 times, your probability of getting a tails is very, very close to 100%.\n",
    "\n",
    "- > Each observation or trial is independent. In other words, none of your trials have an effect on the probability of the next trial.\n",
    "\n",
    "- > The probability of success (tails, heads, fail or pass) is exactly the same from one trial to another."
   ]
  },
  {
   "cell_type": "markdown",
   "metadata": {},
   "source": [
    "#### Define Variables"
   ]
  },
  {
   "cell_type": "code",
   "execution_count": 42,
   "metadata": {},
   "outputs": [],
   "source": [
    "i = range(10) # range of values at which the probabilty of success is calculated\n",
    "n, p = 10, 0.5 #bernouli attempts, probability of success\n",
    "\n",
    "#i = range(1000)\n",
    "#n, p = 1000, 0.5 #bernouli attempts, probability of success\n",
    "\n",
    "rv = binom(n, p) #calls the binomial function"
   ]
  },
  {
   "cell_type": "markdown",
   "metadata": {},
   "source": [
    "**Central limit theorem**: as n (number of trials) increases the binomial distribution will approximate the normal distribution\n",
    "\n",
    "For this to work n * p (probability of success / failure) >= 5\n"
   ]
  },
  {
   "cell_type": "code",
   "execution_count": 43,
   "metadata": {},
   "outputs": [
    {
     "data": {
      "image/png": "[encoded data removed]",
      "text/plain": [
       "<Figure size 720x432 with 1 Axes>"
      ]
     },
     "metadata": {},
     "output_type": "display_data"
    }
   ],
   "source": [
    "plt.vlines(i, 0, rv.pmf(i), colors='r', linestyles='-', linewidth = 5.0, label = 'Probability') \n",
    "\n",
    "# i refers to the x axis, 0 refers to the minimum value of y axis\n",
    "# rv.pmf(i) - rv is the binom(n,p) pmf is the probabilty mass function\n",
    "# which determines the max value for each of the lines\n",
    "\n",
    "plt.legend(frameon = False)\n",
    "plt.show()"
   ]
  },
  {
   "cell_type": "markdown",
   "metadata": {},
   "source": [
    "#### Exactly how many successes are you most likely to get?"
   ]
  },
  {
   "cell_type": "markdown",
   "metadata": {},
   "source": [
    "![title](binomial.jpg)"
   ]
  },
  {
   "cell_type": "code",
   "execution_count": 44,
   "metadata": {},
   "outputs": [
    {
     "data": {
      "text/plain": [
       "<matplotlib.axes._subplots.AxesSubplot at 0x1a1e0a7a10>"
      ]
     },
     "execution_count": 44,
     "metadata": {},
     "output_type": "execute_result"
    },
    {
     "data": {
      "image/png": "[encoded data removed]",
      "text/plain": [
       "<Figure size 720x432 with 1 Axes>"
      ]
     },
     "metadata": {},
     "output_type": "display_data"
    }
   ],
   "source": [
    "counts = np.random.normal(100, 3, 10000) # draw random numbers from gaussian dist. with mu=100 and std=3 \n",
    "sns.distplot(counts)"
   ]
  },
  {
   "cell_type": "markdown",
   "metadata": {},
   "source": [
    "## **2.2 Bell / Normal / Gaussian distribution** "
   ]
  },
  {
   "cell_type": "markdown",
   "metadata": {},
   "source": [
    "- > The mean, mode and median are all equal.\n",
    "- > The curve is symmetric at the center (i.e. around the mean, μ).\n",
    "- > Exactly half of the values are to the left of center and exactly half the values are to the right.\n",
    "- > The total area under the curve is 1.\n",
    "- > Mesocurtic\n"
   ]
  },
  {
   "cell_type": "markdown",
   "metadata": {},
   "source": [
    "![title](normalbox.png)"
   ]
  },
  {
   "cell_type": "markdown",
   "metadata": {},
   "source": [
    "#### Skew"
   ]
  },
  {
   "cell_type": "markdown",
   "metadata": {},
   "source": [
    "![title](skew.jpg)"
   ]
  },
  {
   "cell_type": "markdown",
   "metadata": {},
   "source": [
    "#### Kurtosis, a function of stdev\n",
    "Kurtos is greek for \"bulge\""
   ]
  },
  {
   "cell_type": "markdown",
   "metadata": {},
   "source": [
    "![title](k.png)"
   ]
  },
  {
   "cell_type": "markdown",
   "metadata": {},
   "source": [
    "Leptokurtic = Skinny <br />\n",
    "Mesocurtic = Normal <br /> \n",
    "Platykurtic = Flat <br />"
   ]
  },
  {
   "cell_type": "markdown",
   "metadata": {},
   "source": [
    "![title](kurtic.png)"
   ]
  },
  {
   "cell_type": "markdown",
   "metadata": {},
   "source": [
    "# Who cares?"
   ]
  },
  {
   "cell_type": "markdown",
   "metadata": {},
   "source": [
    "# Parametric Tests\n",
    "- > More powerful, likely to detect a difference that actually exists. \n",
    "- > Less likely to commit Type II error (False Negative)"
   ]
  },
  {
   "cell_type": "markdown",
   "metadata": {},
   "source": [
    "# Nonparametric Tests\n",
    "\n",
    "- > Less powerful, less likely to detect a difference that actually exists\n",
    "- > More likely to commit Type II error (False Negative)"
   ]
  },
  {
   "cell_type": "markdown",
   "metadata": {},
   "source": [
    "| Parametric Tests   |      Nonparametric Tests      |  Purpose of Test |\n",
    "|:----------:|:-------------:|:------:|\n",
    "|Independent-Samples T-Test|Mann - Whitney Test|compares the means of two independent groups, checks if population means are significantly different|\n",
    "|Paired-Samples T-Test|Wilcoxon Signed-Rank Test|compares means of one group at two different times, checks if population means are significantly different|\n",
    "|One-Way ANOVA |Kruskal-Wallis Test|compares the means of two or more independent groups, checks if population means are significantly different|\n",
    "|One-Way Repeated Measures ANOVA|Friedman's Anova|compares means of one group at two or more different times, checks if population means are significantly different|"
   ]
  },
  {
   "cell_type": "markdown",
   "metadata": {},
   "source": [
    "## 3.1 Graphic Normality Tests, aka Eyeball Method"
   ]
  },
  {
   "cell_type": "code",
   "execution_count": 45,
   "metadata": {},
   "outputs": [],
   "source": [
    "#dataframe.columns"
   ]
  },
  {
   "cell_type": "code",
   "execution_count": 46,
   "metadata": {},
   "outputs": [
    {
     "name": "stdout",
     "output_type": "stream",
     "text": [
      "9452.0\n",
      "10581.593406593407\n"
     ]
    },
    {
     "data": {
      "image/png": "[encoded data removed]",
      "text/plain": [
       "<Figure size 1152x216 with 1 Axes>"
      ]
     },
     "metadata": {},
     "output_type": "display_data"
    }
   ],
   "source": [
    "sns.set(rc={'figure.figsize': (16,3)})\n",
    "sns.set_context('poster')\n",
    "\n",
    "x = dataframe['Revenue'].values\n",
    "\n",
    "# 3. add boxplot \n",
    "sns.boxplot(x, showmeans = True)\n",
    "\n",
    "# The line in the middle signifies the median\n",
    "# Check your median value with python \n",
    "print(dataframe['Revenue'].median())\n",
    "# Check your median value with python\n",
    "print(dataframe['Revenue'].mean())\n"
   ]
  },
  {
   "cell_type": "code",
   "execution_count": 47,
   "metadata": {},
   "outputs": [
    {
     "name": "stdout",
     "output_type": "stream",
     "text": [
      "9452.0\n",
      "10581.593406593407\n"
     ]
    },
    {
     "data": {
      "image/png": "[encoded data removed]",
      "text/plain": [
       "<Figure size 1152x216 with 1 Axes>"
      ]
     },
     "metadata": {},
     "output_type": "display_data"
    }
   ],
   "source": [
    "sns.distplot(x)\n",
    "print(dataframe['Revenue'].median())\n",
    "print(dataframe['Revenue'].mean())"
   ]
  },
  {
   "cell_type": "markdown",
   "metadata": {},
   "source": [
    "# Q-Q Plot\n",
    "\n",
    "https://en.wikipedia.org/wiki/Q%E2%80%93Q_plot\n",
    "A probability plot, which is a graphical method for comparing two probability distributions by plotting their quantiles against each other. <br />"
   ]
  },
  {
   "cell_type": "code",
   "execution_count": 48,
   "metadata": {},
   "outputs": [
    {
     "data": {
      "image/png": "[encoded data removed]",
      "text/plain": [
       "<Figure size 576x576 with 1 Axes>"
      ]
     },
     "metadata": {},
     "output_type": "display_data"
    }
   ],
   "source": [
    "sns.set(rc={'figure.figsize': (8,8)})\n",
    "x = qqplot(dataframe['Revenue'], line= 's')\n",
    "\n",
    "# 's' - standardized line, the expected order statistics are scaled by the standard deviation of the given sample and have the mean added to them"
   ]
  },
  {
   "cell_type": "markdown",
   "metadata": {},
   "source": [
    "## 4.1 Graphic Normality Tests, aka CYA"
   ]
  },
  {
   "cell_type": "markdown",
   "metadata": {},
   "source": [
    "#### Shapiro–Wilk Test\n",
    "test of normality in frequentist statistics. \n",
    "it was published in 1965 by Samuel Sanford Shapiro and Martin Wilk\n"
   ]
  },
  {
   "cell_type": "markdown",
   "metadata": {},
   "source": [
    "- > evaluates a data sample and quantifies how likely it is that the data was drawn from a Gaussian distribution\n",
    "- > the p-value represents the percent chance that the null hypothesis is true\n",
    "- > the p-value is the probability that the distribution is normal\n",
    "- > p-value = 1 represents a 100% certainty, 0.5 is 50%, and 0.05 is 5%\n",
    "- > if the p-value is less than the chosen alpha level, then the null hypothesis is rejected and there is evidence that the data tested are not normally distributed\n",
    "- > a p = 0.000 implies that the distribution is not normal"
   ]
  },
  {
   "cell_type": "code",
   "execution_count": 49,
   "metadata": {},
   "outputs": [
    {
     "name": "stdout",
     "output_type": "stream",
     "text": [
      "Statistics=1.000, p=0.445\n",
      "Sample looks Gaussian (fail to reject H0)\n"
     ]
    },
    {
     "name": "stderr",
     "output_type": "stream",
     "text": [
      "/Users/seanreed1/miniconda3/lib/python3.7/site-packages/scipy/stats/morestats.py:1681: UserWarning: p-value may not be accurate for N > 5000.\n",
      "  warnings.warn(\"p-value may not be accurate for N > 5000.\")\n"
     ]
    }
   ],
   "source": [
    "# normality test\n",
    "stat, p = shapiro(counts)\n",
    "print('Statistics=%.3f, p=%.3f' % (stat, p))\n",
    "# interpret\n",
    "alpha = 0.05\n",
    "if p > alpha:\n",
    "\tprint('Sample looks Gaussian (fail to reject H0)')\n",
    "else:\n",
    "\tprint('Sample does not look Gaussian (reject H0)')"
   ]
  },
  {
   "cell_type": "markdown",
   "metadata": {},
   "source": [
    "# D’Agostino’s K Squared Normality Test"
   ]
  },
  {
   "cell_type": "markdown",
   "metadata": {},
   "source": [
    "#### Massive Caviot\n",
    "\n",
    "For N > 5000 the test statistic is accurate but the p-value may not be.\n",
    "The chance of rejecting the null hypothesis when it is true is close to 5% regardless of sample size."
   ]
  },
  {
   "cell_type": "code",
   "execution_count": 50,
   "metadata": {},
   "outputs": [
    {
     "name": "stdout",
     "output_type": "stream",
     "text": [
      "Statistic = 43.996, p value = 0.000\n",
      "Sample does not look Gaussian (reject H0)\n"
     ]
    }
   ],
   "source": [
    "# D’Agostino’s K Squared Test Normality Test\n",
    "\n",
    "stat, p = normaltest(dataframe['Revenue'])\n",
    "print('Statistic = %.3f, p value = %.3f' % (stat, p))\n",
    "\n",
    "# interpret\n",
    "alpha = 0.05\n",
    "if p > alpha:\n",
    "    print('Sample looks Gaussian (fail to reject H0)')\n",
    "else:\n",
    "    print('Sample does not look Gaussian (reject H0)')"
   ]
  },
  {
   "cell_type": "code",
   "execution_count": 51,
   "metadata": {},
   "outputs": [
    {
     "name": "stdout",
     "output_type": "stream",
     "text": [
      "Statistic = 0.913, p value = 0.634\n",
      "Sample looks Gaussian (fail to reject H0)\n"
     ]
    }
   ],
   "source": [
    "# D’Agostino’s K Squared Test Normality Test\n",
    "\n",
    "stat, p = normaltest(counts)\n",
    "print('Statistic = %.3f, p value = %.3f' % (stat, p))\n",
    "\n",
    "# interpret\n",
    "alpha = 0.05\n",
    "if p > alpha:\n",
    "    print('Sample looks Gaussian (fail to reject H0)')\n",
    "else:\n",
    "    print('Sample does not look Gaussian (reject H0)')"
   ]
  }
 ],
 "metadata": {
  "kernelspec": {
   "display_name": "Python 3",
   "language": "python",
   "name": "python3"
  },
  "language_info": {
   "codemirror_mode": {
    "name": "ipython",
    "version": 3
   },
   "file_extension": ".py",
   "mimetype": "text/x-python",
   "name": "python",
   "nbconvert_exporter": "python",
   "pygments_lexer": "ipython3",
   "version": "3.7.7"
  }
 },
 "nbformat": 4,
 "nbformat_minor": 4
}
