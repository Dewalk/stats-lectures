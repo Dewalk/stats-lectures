{
 "cells": [
  {
   "cell_type": "code",
   "execution_count": 141,
   "metadata": {},
   "outputs": [],
   "source": [
    "import pandas as pd\n",
    "import seaborn as sns\n",
    "import numpy as np\n",
    "from scipy import stats\n",
    "np.random.seed(42)"
   ]
  },
  {
   "cell_type": "code",
   "execution_count": 135,
   "metadata": {},
   "outputs": [
    {
     "data": {
      "text/plain": [
       "<matplotlib.axes._subplots.AxesSubplot at 0x1a2aa06ad0>"
      ]
     },
     "execution_count": 135,
     "metadata": {},
     "output_type": "execute_result"
    },
    {
     "data": {
      "image/png": "[encoded data removed]",
      "text/plain": [
       "<Figure size 432x288 with 1 Axes>"
      ]
     },
     "metadata": {
      "needs_background": "light"
     },
     "output_type": "display_data"
    }
   ],
   "source": [
    "s = [0,1,2,3,4,5,5]\n",
    "sns.countplot(s) # This shows the counts of each number in the list"
   ]
  },
  {
   "cell_type": "code",
   "execution_count": null,
   "metadata": {},
   "outputs": [],
   "source": [
    "#Lets pick a bunch of numbers randomly between 0 and 5\n",
    "#We will use np.random.randint\n",
    "# Randint generates a discrete distribution!!!"
   ]
  },
  {
   "cell_type": "code",
   "execution_count": 142,
   "metadata": {},
   "outputs": [
    {
     "data": {
      "text/plain": [
       "array([3, 4, 2, 4, 4, 1, 2, 2, 2, 4])"
      ]
     },
     "execution_count": 142,
     "metadata": {},
     "output_type": "execute_result"
    }
   ],
   "source": [
    "#pick 10 random **integers** from 0 to 5\n",
    "# Randint generates a discrete distribution!!!\n",
    "to_5 = np.random.randint(6, size=10)\n",
    "to_5"
   ]
  },
  {
   "cell_type": "code",
   "execution_count": 143,
   "metadata": {},
   "outputs": [
    {
     "data": {
      "text/plain": [
       "<matplotlib.axes._subplots.AxesSubplot at 0x1a2ab18e90>"
      ]
     },
     "execution_count": 143,
     "metadata": {},
     "output_type": "execute_result"
    },
    {
     "data": {
      "image/png": "[encoded data removed]",
      "text/plain": [
       "<Figure size 432x288 with 1 Axes>"
      ]
     },
     "metadata": {
      "needs_background": "light"
     },
     "output_type": "display_data"
    }
   ],
   "source": [
    "sns.countplot(to_5)#notice we didnt draw 0 or 5!"
   ]
  },
  {
   "cell_type": "code",
   "execution_count": 148,
   "metadata": {},
   "outputs": [],
   "source": [
    "#pick 20 random **integers** from 0 to 9\n",
    "# Randint generates a discrete distribution!!!\n",
    "to_9 = np.random.randint(10, size=20)"
   ]
  },
  {
   "cell_type": "code",
   "execution_count": 153,
   "metadata": {},
   "outputs": [
    {
     "data": {
      "text/plain": [
       "array([9, 9, 2, 6, 0, 3, 3, 4, 6, 6, 3, 6, 2, 5, 1, 9, 8, 4, 5, 3])"
      ]
     },
     "execution_count": 153,
     "metadata": {},
     "output_type": "execute_result"
    }
   ],
   "source": [
    "to_9"
   ]
  },
  {
   "cell_type": "code",
   "execution_count": 149,
   "metadata": {},
   "outputs": [
    {
     "data": {
      "text/plain": [
       "<matplotlib.axes._subplots.AxesSubplot at 0x1a2adc34d0>"
      ]
     },
     "execution_count": 149,
     "metadata": {},
     "output_type": "execute_result"
    },
    {
     "data": {
      "image/png": "[encoded data removed]",
      "text/plain": [
       "<Figure size 432x288 with 1 Axes>"
      ]
     },
     "metadata": {
      "needs_background": "light"
     },
     "output_type": "display_data"
    }
   ],
   "source": [
    "sns.countplot(to_9) # this is a plot of the distribution of the 20 numbers in to_9"
   ]
  },
  {
   "cell_type": "code",
   "execution_count": 150,
   "metadata": {},
   "outputs": [],
   "source": [
    "#pick 100 random **integers** from 1 to 6\n",
    "# Randint generates a discrete distribution!!!\n",
    "to_6 = np.random.randint(1,7, size=100)"
   ]
  },
  {
   "cell_type": "code",
   "execution_count": 154,
   "metadata": {},
   "outputs": [
    {
     "data": {
      "text/plain": [
       "array([6, 6, 3, 2, 4, 1, 6, 1, 1, 1, 3, 6, 1, 4, 5, 1, 3, 6, 3, 1, 6, 5,\n",
       "       1, 3, 2, 4, 3, 6, 1, 4, 1, 6, 1, 2, 4, 4, 6, 2, 3, 1, 5, 1, 1, 3,\n",
       "       1, 2, 2, 4, 6, 5, 1, 1, 3, 6, 2, 5, 4, 2, 6, 4, 3, 3, 1, 6, 5, 4,\n",
       "       2, 6, 6, 3, 1, 1, 4, 3, 6, 5, 3, 4, 4, 3, 4, 3, 2, 3, 3, 4, 4, 1,\n",
       "       1, 2, 1, 3, 4, 1, 1, 2, 6, 2, 3, 4])"
      ]
     },
     "execution_count": 154,
     "metadata": {},
     "output_type": "execute_result"
    }
   ],
   "source": [
    "to_6"
   ]
  },
  {
   "cell_type": "code",
   "execution_count": 151,
   "metadata": {},
   "outputs": [
    {
     "data": {
      "text/plain": [
       "<matplotlib.axes._subplots.AxesSubplot at 0x1a2aeb4cd0>"
      ]
     },
     "execution_count": 151,
     "metadata": {},
     "output_type": "execute_result"
    },
    {
     "data": {
      "image/png": "[encoded data removed]",
      "text/plain": [
       "<Figure size 432x288 with 1 Axes>"
      ]
     },
     "metadata": {
      "needs_background": "light"
     },
     "output_type": "display_data"
    }
   ],
   "source": [
    "sns.countplot(to_6) # this is a plot of the distribution of the 100 numbers in to_6"
   ]
  },
  {
   "cell_type": "code",
   "execution_count": 100,
   "metadata": {},
   "outputs": [
    {
     "data": {
      "text/plain": [
       "array([ 17,  67,  54,  35,  90,  33,  96,  83,  81,  34,  89,  79,  61,\n",
       "       100,  71,  46,  27,  78,  56,  43,  72,  15,   7,  48,  35,  39,\n",
       "        42,  42,  94,   2,   3,  78,  78,  88,  52,  69,  23,  19,  85,\n",
       "        46,   5,  30,   2,  83,  91,  86,  17,  39,  85,  50,  99,  88,\n",
       "        76,  27,  45,  33,   5,  54,  24,  17,  66,  32,   5,  43,  90,\n",
       "        97,  43,  18,   8,  86,  22,  79,  26,  90,  81,   2,  85,  79,\n",
       "        57,  18,  33,  97,  96,  91,  28,  51,  40,  17,  59,  87,  97,\n",
       "        21,  22,  12,  26,  13,  47,  15,  76,  39])"
      ]
     },
     "execution_count": 100,
     "metadata": {},
     "output_type": "execute_result"
    }
   ],
   "source": [
    "#pick 100 random **integers** from 1 to 100\n",
    "# Randint generates a discrete distribution!!!\n",
    "to_100 = np.random.randint(1,101, size=100)\n",
    "to_100"
   ]
  },
  {
   "cell_type": "code",
   "execution_count": 152,
   "metadata": {},
   "outputs": [
    {
     "data": {
      "text/plain": [
       "array([ 16,  90,  60,   2,   1,  48,  12,  69,  37,  32,   9,  99,  19,\n",
       "        48,  80,   3,  20,  24,  54,  33,  24,  75,  72,  36,  38,  84,\n",
       "        99,  89,  99,  25,  93,  18,  82,  66,  54,  35,  80,  61,  41,\n",
       "       100,  33,  68,  33,  14,  21,  48,  20,   8,   7,  67,  17,  33,\n",
       "        48,  76,  59,  86,  22,  30,  38,  51,  54,   8,  27,  27,  98,\n",
       "        21,  30,  97,  28,  64,  97,  69,  61,  48,  19,   4,  35,  64,\n",
       "        49,  17,  44,  92,  30,  93,  46,   6,  99,  37,  24,  93,  46,\n",
       "        53,  95,  99,  60,  97,  63,  85,  32,  87])"
      ]
     },
     "execution_count": 152,
     "metadata": {},
     "output_type": "execute_result"
    }
   ],
   "source": [
    "# Side Note: if I run np.random.randint(1,101, size=100) again, \n",
    "#I'll of course get a completely different set of random numbers\n",
    "\n",
    "np.random.randint(1,101, size=100)"
   ]
  },
  {
   "cell_type": "code",
   "execution_count": 129,
   "metadata": {},
   "outputs": [
    {
     "name": "stdout",
     "output_type": "stream",
     "text": [
      "For the number 1, count = 0\n",
      "For the number 2, count = 3\n",
      "For the number 3, count = 1\n",
      "For the number 4, count = 0\n",
      "For the number 5, count = 3\n",
      "For the number 6, count = 0\n",
      "For the number 7, count = 1\n",
      "For the number 8, count = 1\n",
      "For the number 9, count = 0\n",
      "For the number 10, count = 0\n",
      "For the number 11, count = 0\n",
      "For the number 12, count = 1\n",
      "For the number 13, count = 1\n",
      "For the number 14, count = 0\n",
      "For the number 15, count = 2\n",
      "For the number 16, count = 0\n",
      "For the number 17, count = 4\n",
      "For the number 18, count = 2\n",
      "For the number 19, count = 1\n",
      "For the number 20, count = 0\n",
      "For the number 21, count = 1\n",
      "For the number 22, count = 2\n",
      "For the number 23, count = 1\n",
      "For the number 24, count = 1\n",
      "For the number 25, count = 0\n",
      "For the number 26, count = 2\n",
      "For the number 27, count = 2\n",
      "For the number 28, count = 1\n",
      "For the number 29, count = 0\n",
      "For the number 30, count = 1\n",
      "For the number 31, count = 0\n",
      "For the number 32, count = 1\n",
      "For the number 33, count = 3\n",
      "For the number 34, count = 1\n",
      "For the number 35, count = 2\n",
      "For the number 36, count = 0\n",
      "For the number 37, count = 0\n",
      "For the number 38, count = 0\n",
      "For the number 39, count = 3\n",
      "For the number 40, count = 1\n",
      "For the number 41, count = 0\n",
      "For the number 42, count = 2\n",
      "For the number 43, count = 3\n",
      "For the number 44, count = 0\n",
      "For the number 45, count = 1\n",
      "For the number 46, count = 2\n",
      "For the number 47, count = 1\n",
      "For the number 48, count = 1\n",
      "For the number 49, count = 0\n",
      "For the number 50, count = 1\n",
      "For the number 51, count = 1\n",
      "For the number 52, count = 1\n",
      "For the number 53, count = 0\n",
      "For the number 54, count = 2\n",
      "For the number 55, count = 0\n",
      "For the number 56, count = 1\n",
      "For the number 57, count = 1\n",
      "For the number 58, count = 0\n",
      "For the number 59, count = 1\n",
      "For the number 60, count = 0\n",
      "For the number 61, count = 1\n",
      "For the number 62, count = 0\n",
      "For the number 63, count = 0\n",
      "For the number 64, count = 0\n",
      "For the number 65, count = 0\n",
      "For the number 66, count = 1\n",
      "For the number 67, count = 1\n",
      "For the number 68, count = 0\n",
      "For the number 69, count = 1\n",
      "For the number 70, count = 0\n",
      "For the number 71, count = 1\n",
      "For the number 72, count = 1\n",
      "For the number 73, count = 0\n",
      "For the number 74, count = 0\n",
      "For the number 75, count = 0\n",
      "For the number 76, count = 2\n",
      "For the number 77, count = 0\n",
      "For the number 78, count = 3\n",
      "For the number 79, count = 3\n",
      "For the number 80, count = 0\n",
      "For the number 81, count = 2\n",
      "For the number 82, count = 0\n",
      "For the number 83, count = 2\n",
      "For the number 84, count = 0\n",
      "For the number 85, count = 3\n",
      "For the number 86, count = 2\n",
      "For the number 87, count = 1\n",
      "For the number 88, count = 2\n",
      "For the number 89, count = 1\n",
      "For the number 90, count = 3\n",
      "For the number 91, count = 2\n",
      "For the number 92, count = 0\n",
      "For the number 93, count = 0\n",
      "For the number 94, count = 1\n",
      "For the number 95, count = 0\n",
      "For the number 96, count = 2\n",
      "For the number 97, count = 3\n",
      "For the number 98, count = 0\n",
      "For the number 99, count = 1\n",
      "For the number 100, count = 1\n"
     ]
    }
   ],
   "source": [
    "# we drew 100 numbers from the integers from 1 to 100\n",
    "# but just like before, some numbers we missed, and some we drew more than once!\n",
    "#let's organize the counts and take a look at them\n",
    "\n",
    "from collections import Counter\n",
    "c = Counter(to_100)\n",
    "\n",
    "for i in range(1,101):\n",
    "    print(f\"For the number {i}, count = {c[i]}\")"
   ]
  },
  {
   "cell_type": "code",
   "execution_count": 130,
   "metadata": {},
   "outputs": [
    {
     "data": {
      "text/plain": [
       "<matplotlib.axes._subplots.AxesSubplot at 0x1a2a4fa190>"
      ]
     },
     "execution_count": 130,
     "metadata": {},
     "output_type": "execute_result"
    },
    {
     "data": {
      "image/png": "[encoded data removed]",
      "text/plain": [
       "<Figure size 432x288 with 1 Axes>"
      ]
     },
     "metadata": {
      "needs_background": "light"
     },
     "output_type": "display_data"
    }
   ],
   "source": [
    "\n",
    "#Let's try to plot the distribution of the 100 numbers in to_100\n",
    "\n",
    "sns.countplot(to_100) #doesn't look very nice! The x axis labels are messed up. "
   ]
  },
  {
   "cell_type": "code",
   "execution_count": 155,
   "metadata": {},
   "outputs": [
    {
     "data": {
      "text/plain": [
       "<matplotlib.axes._subplots.AxesSubplot at 0x1a2af948d0>"
      ]
     },
     "execution_count": 155,
     "metadata": {},
     "output_type": "execute_result"
    },
    {
     "data": {
      "image/png": "[encoded data removed]",
      "text/plain": [
       "<Figure size 432x288 with 1 Axes>"
      ]
     },
     "metadata": {
      "needs_background": "light"
     },
     "output_type": "display_data"
    }
   ],
   "source": [
    "#Instead of fixing it ourselves, let's try `distplot` instead\n",
    "#distplot will graphs the realized values we got from running \n",
    "#to_100 = np.random.randint(1,101, size=100) in a nicer way, I hope!\n",
    "\n",
    "sns.distplot(to_100) #still ugly! The bins do not look good. Also that smooth kde curve is distracting"
   ]
  },
  {
   "cell_type": "code",
   "execution_count": 132,
   "metadata": {},
   "outputs": [
    {
     "data": {
      "text/plain": [
       "<matplotlib.axes._subplots.AxesSubplot at 0x1a29e63bd0>"
      ]
     },
     "execution_count": 132,
     "metadata": {},
     "output_type": "execute_result"
    },
    {
     "data": {
      "image/png": "[encoded data removed]",
      "text/plain": [
       "<Figure size 432x288 with 1 Axes>"
      ]
     },
     "metadata": {
      "needs_background": "light"
     },
     "output_type": "display_data"
    }
   ],
   "source": [
    "#the dictionary d contains params needed by distplot so it behaves how I want it to.\n",
    "#in particular, norm_hist=True makes the y axis into a  probability that sums to 1!\n",
    "d = dict(kde=False, norm_hist=True)\n",
    "\n",
    "sns.distplot(to_100,bins=100, **d ) #much better! I can see the zeros now. But still not quite right."
   ]
  },
  {
   "cell_type": "code",
   "execution_count": 171,
   "metadata": {},
   "outputs": [
    {
     "data": {
      "text/plain": [
       "array([  1,   2,   3,   4,   5,   6,   7,   8,   9,  10,  11,  12,  13,\n",
       "        14,  15,  16,  17,  18,  19,  20,  21,  22,  23,  24,  25,  26,\n",
       "        27,  28,  29,  30,  31,  32,  33,  34,  35,  36,  37,  38,  39,\n",
       "        40,  41,  42,  43,  44,  45,  46,  47,  48,  49,  50,  51,  52,\n",
       "        53,  54,  55,  56,  57,  58,  59,  60,  61,  62,  63,  64,  65,\n",
       "        66,  67,  68,  69,  70,  71,  72,  73,  74,  75,  76,  77,  78,\n",
       "        79,  80,  81,  82,  83,  84,  85,  86,  87,  88,  89,  90,  91,\n",
       "        92,  93,  94,  95,  96,  97,  98,  99, 100])"
      ]
     },
     "execution_count": 171,
     "metadata": {},
     "output_type": "execute_result"
    }
   ],
   "source": [
    "np.arange(1,101)"
   ]
  },
  {
   "cell_type": "code",
   "execution_count": 172,
   "metadata": {},
   "outputs": [
    {
     "data": {
      "text/plain": [
       "<matplotlib.axes._subplots.AxesSubplot at 0x1a2bd10e90>"
      ]
     },
     "execution_count": 172,
     "metadata": {},
     "output_type": "execute_result"
    },
    {
     "data": {
      "image/png": "[encoded data removed]",
      "text/plain": [
       "<Figure size 432x288 with 1 Axes>"
      ]
     },
     "metadata": {
      "needs_background": "light"
     },
     "output_type": "display_data"
    }
   ],
   "source": [
    "'''\n",
    "This is actually the correct way to do the bins \n",
    "You have to tell seaborn EXACTLY where you want them and how many you want(don't ask). \n",
    "If you compare it to the Counter we did above you'll see the percentages match up perfectly and add up to 100.\n",
    "'''\n",
    "\n",
    "sns.distplot(to_100,bins=np.arange(1,101), **d ) "
   ]
  },
  {
   "cell_type": "code",
   "execution_count": null,
   "metadata": {},
   "outputs": [],
   "source": []
  },
  {
   "cell_type": "code",
   "execution_count": null,
   "metadata": {},
   "outputs": [],
   "source": []
  },
  {
   "cell_type": "markdown",
   "metadata": {},
   "source": [
    "## Continuous Distributions"
   ]
  },
  {
   "cell_type": "markdown",
   "metadata": {},
   "source": [
    "### Uniform Distribution"
   ]
  },
  {
   "cell_type": "code",
   "execution_count": 91,
   "metadata": {},
   "outputs": [
    {
     "data": {
      "text/plain": [
       "array([3.45096705, 5.00933999, 1.44024515, 5.05329366, 2.89508502,\n",
       "       5.90414488, 3.43803155, 3.88068133, 2.69554062, 4.19562433,\n",
       "       2.51289868, 5.99546331, 4.72247566, 3.69144834, 4.6103321 ,\n",
       "       5.65437493, 5.61857383, 5.33824981, 5.54686436, 4.5856929 ,\n",
       "       1.14623699, 5.98011476, 4.16422589, 3.85990971, 1.9648357 ,\n",
       "       4.61999008, 2.42828308, 2.81732715, 3.21476075, 2.13074242,\n",
       "       3.64515675, 2.75705948, 4.67242404, 1.13566331, 5.78139567,\n",
       "       2.70815906, 5.4728367 , 2.58723271, 1.10736659, 1.95867363,\n",
       "       4.16675456, 1.35673713, 2.03131946, 2.32689453, 4.22029137,\n",
       "       4.22820132, 4.20896987, 1.33054002, 1.37146277, 5.55818039,\n",
       "       4.76488031, 2.85393351, 3.28352856, 3.84212709, 5.87557776,\n",
       "       3.8214481 , 4.54409317, 2.2914852 , 2.10705648, 1.63904821,\n",
       "       4.43477246, 3.55981521, 5.82138523, 2.35689725, 5.40615103,\n",
       "       1.2135514 , 5.41556988, 4.96934479, 3.43311049, 3.64447964,\n",
       "       3.92191984, 1.48987256, 1.22233056, 2.54841664, 2.33586461,\n",
       "       1.8425125 , 1.82838994, 5.38584259, 2.6407323 , 3.8012251 ,\n",
       "       3.31166718, 4.7185967 , 2.42646914, 5.18998056, 3.63195969,\n",
       "       5.06323747, 2.11210793, 1.6301617 , 4.61449987, 4.64403039,\n",
       "       2.5159223 , 5.82861967, 4.68033393, 5.05998112, 2.90253722,\n",
       "       4.48909281, 4.84501743, 2.6606843 , 5.31733676, 2.94838045])"
      ]
     },
     "execution_count": 91,
     "metadata": {},
     "output_type": "execute_result"
    }
   ],
   "source": [
    "#pick 100 random REAL numbers from 1 to 6, inclusive of 1, exclusive of 6\n",
    "# The uniform distribution is continuous!!!!!!!!!!!\n",
    "np.random.uniform(1,6, size=100) "
   ]
  },
  {
   "cell_type": "code",
   "execution_count": null,
   "metadata": {},
   "outputs": [],
   "source": []
  },
  {
   "cell_type": "markdown",
   "metadata": {},
   "source": [
    "### Beta Distribution"
   ]
  },
  {
   "cell_type": "code",
   "execution_count": null,
   "metadata": {},
   "outputs": [],
   "source": [
    "# * Beta distribution is defined between 0 and 1, inclusive of both!\n",
    "# The Beta distribution is continuous!!!"
   ]
  },
  {
   "cell_type": "code",
   "execution_count": 157,
   "metadata": {},
   "outputs": [],
   "source": [
    "b1_1 = np.random.beta(a=1,b=1, size=200)\n",
    "\n",
    "b10_10 = np.random.beta(a=10,b=10, size=200)"
   ]
  },
  {
   "cell_type": "code",
   "execution_count": 158,
   "metadata": {},
   "outputs": [
    {
     "data": {
      "text/plain": [
       "array([0.35618331, 0.48566248, 0.25208502, 0.46257474, 0.16158026,\n",
       "       0.65088941, 0.62098881, 0.88227781, 0.00818991, 0.73251531,\n",
       "       0.88656404, 0.96979244, 0.86566378, 0.36088089, 0.32090002,\n",
       "       0.8348743 , 0.94565363, 0.47915529, 0.74785433, 0.69505678,\n",
       "       0.0597834 , 0.64847758, 0.33921201, 0.0777448 , 0.56901052,\n",
       "       0.78832472, 0.23215948, 0.0219866 , 0.04819364, 0.01613142,\n",
       "       0.81691648, 0.75915661, 0.56076346, 0.90638863, 0.64751638,\n",
       "       0.34450048, 0.95984326, 0.56408043, 0.8514091 , 0.30102137,\n",
       "       0.25978445, 0.75644084, 0.41415082, 0.56033943, 0.74854164,\n",
       "       0.49461599, 0.47594204, 0.87319   , 0.65687154, 0.22215175,\n",
       "       0.28633331, 0.62826064, 0.4295927 , 0.63134772, 0.4148791 ,\n",
       "       0.74143211, 0.45586703, 0.13560699, 0.88144686, 0.26675435,\n",
       "       0.31216451, 0.42403249, 0.12790833, 0.24130238, 0.20780653,\n",
       "       0.62860865, 0.42462899, 0.36448857, 0.10355039, 0.67045031,\n",
       "       0.41755698, 0.28612619, 0.63300597, 0.90732385, 0.0982423 ,\n",
       "       0.61048465, 0.44918033, 0.57003094, 0.14860926, 0.04263428,\n",
       "       0.53303986, 0.85909013, 0.36267445, 0.92069008, 0.06879187,\n",
       "       0.62423328, 0.62922456, 0.53867335, 0.59363104, 0.79485004,\n",
       "       0.49816906, 0.05478654, 0.60019599, 0.50653443, 0.16094314,\n",
       "       0.29382063, 0.00297972, 0.12396248, 0.9203669 , 0.52603142,\n",
       "       0.96093756, 0.79111101, 0.80179837, 0.14283207, 0.40478892,\n",
       "       0.57168576, 0.59843076, 0.71316968, 0.60131547, 0.99199516,\n",
       "       0.38147411, 0.09833553, 0.06197717, 0.73893798, 0.99425595,\n",
       "       0.78087224, 0.14710321, 0.61662831, 0.73125983, 0.88624599,\n",
       "       0.98084653, 0.19783612, 0.11144378, 0.35089207, 0.05797266,\n",
       "       0.44161675, 0.34958037, 0.47581849, 0.88868552, 0.29671317,\n",
       "       0.56457326, 0.84471303, 0.22266782, 0.16095785, 0.45323246,\n",
       "       0.01998388, 0.34926144, 0.31890135, 0.28248806, 0.97168565,\n",
       "       0.84454615, 0.42585176, 0.34236137, 0.4704407 , 0.57799037,\n",
       "       0.61577627, 0.78356135, 0.21609942, 0.49200409, 0.03473647,\n",
       "       0.3005678 , 0.83008807, 0.55775745, 0.29220235, 0.74363514,\n",
       "       0.49151726, 0.48211956, 0.66642626, 0.23547004, 0.09110516,\n",
       "       0.68484974, 0.2795143 , 0.63687905, 0.25769591, 0.7884599 ,\n",
       "       0.87354387, 0.65036813, 0.03957544, 0.87221661, 0.72119599,\n",
       "       0.486122  , 0.6486746 , 0.14219318, 0.43219753, 0.49734564,\n",
       "       0.74491121, 0.54392578, 0.10488164, 0.07538666, 0.64186899,\n",
       "       0.76916387, 0.49485832, 0.49404051, 0.00241165, 0.04849042,\n",
       "       0.93072259, 0.93815083, 0.72189928, 0.79147435, 0.21466002,\n",
       "       0.10760742, 0.52161203, 0.47473602, 0.99976022, 0.3257129 ,\n",
       "       0.15257431, 0.70194452, 0.40551846, 0.21421585, 0.00710998])"
      ]
     },
     "execution_count": 158,
     "metadata": {},
     "output_type": "execute_result"
    }
   ],
   "source": [
    "b1_1 # 200 numbers drawn from a beta distribution with a = 1 and b = 1"
   ]
  },
  {
   "cell_type": "code",
   "execution_count": 159,
   "metadata": {},
   "outputs": [
    {
     "data": {
      "text/plain": [
       "array([0.59673935, 0.55622588, 0.44184553, 0.67135522, 0.54739523,\n",
       "       0.54279197, 0.53099819, 0.49697228, 0.63771342, 0.55785985,\n",
       "       0.64659289, 0.43181923, 0.56633375, 0.42494771, 0.38020464,\n",
       "       0.41970409, 0.54154039, 0.63936026, 0.51640039, 0.46708143,\n",
       "       0.4741248 , 0.55561006, 0.5155929 , 0.36542749, 0.47286265,\n",
       "       0.62733309, 0.50010492, 0.49851995, 0.68321071, 0.53336776,\n",
       "       0.50395592, 0.39974011, 0.56872125, 0.52271727, 0.54732851,\n",
       "       0.54296617, 0.52677962, 0.65606367, 0.34494735, 0.25186187,\n",
       "       0.36143187, 0.65433845, 0.5878226 , 0.50016638, 0.40050642,\n",
       "       0.57503598, 0.52381042, 0.4735563 , 0.39807413, 0.47335785,\n",
       "       0.53259379, 0.39086601, 0.38690584, 0.50830429, 0.49304991,\n",
       "       0.68332285, 0.44770525, 0.73382299, 0.59429053, 0.53977767,\n",
       "       0.43868528, 0.48843896, 0.49754082, 0.36646898, 0.53406528,\n",
       "       0.42324864, 0.68694289, 0.3150654 , 0.56030184, 0.61458392,\n",
       "       0.33056632, 0.72913734, 0.57962977, 0.55653264, 0.48536668,\n",
       "       0.20798082, 0.50340855, 0.27354503, 0.50030368, 0.68099846,\n",
       "       0.53371409, 0.29364152, 0.47725073, 0.49786303, 0.37407292,\n",
       "       0.57676481, 0.45907002, 0.46844559, 0.52529074, 0.49352156,\n",
       "       0.7508764 , 0.59748352, 0.42455999, 0.49287491, 0.58342736,\n",
       "       0.74742948, 0.7526464 , 0.59365997, 0.36546752, 0.49751049,\n",
       "       0.32776043, 0.23187503, 0.60731692, 0.64791934, 0.42453582,\n",
       "       0.49628021, 0.45324597, 0.63980646, 0.60772762, 0.57251115,\n",
       "       0.33134584, 0.57021235, 0.55031389, 0.49533924, 0.5875534 ,\n",
       "       0.41081921, 0.66722267, 0.38335756, 0.33692071, 0.25929641,\n",
       "       0.43571308, 0.649134  , 0.70382732, 0.30855954, 0.59805145,\n",
       "       0.58281084, 0.48020891, 0.71273638, 0.54467551, 0.61660297,\n",
       "       0.46820334, 0.50748471, 0.5132989 , 0.3420648 , 0.50977414,\n",
       "       0.45509321, 0.52315135, 0.42436879, 0.27854062, 0.38564152,\n",
       "       0.58742194, 0.50930521, 0.45498482, 0.39074723, 0.53203402,\n",
       "       0.58403712, 0.6001422 , 0.59294809, 0.27574679, 0.50334319,\n",
       "       0.31099135, 0.48188416, 0.346237  , 0.6234176 , 0.36783437,\n",
       "       0.1878889 , 0.5698459 , 0.37316685, 0.45100569, 0.52590675,\n",
       "       0.35002619, 0.4253025 , 0.5516811 , 0.52319262, 0.53914849,\n",
       "       0.4011512 , 0.54968883, 0.45599572, 0.53814397, 0.27561913,\n",
       "       0.36245376, 0.44487918, 0.38976815, 0.49231186, 0.42211278,\n",
       "       0.58269578, 0.38182909, 0.41497622, 0.43520262, 0.59939749,\n",
       "       0.43238441, 0.52403886, 0.53323652, 0.47755564, 0.52589052,\n",
       "       0.43203474, 0.4462844 , 0.41229059, 0.42591654, 0.6543    ,\n",
       "       0.46714977, 0.48185281, 0.44707381, 0.56642073, 0.15422263,\n",
       "       0.57987165, 0.46386355, 0.52498011, 0.30694025, 0.69042068])"
      ]
     },
     "execution_count": 159,
     "metadata": {},
     "output_type": "execute_result"
    }
   ],
   "source": [
    "b10_10 # 200 numbers drawn from a beta distribution with a = 10 and b = 10"
   ]
  },
  {
   "cell_type": "code",
   "execution_count": 168,
   "metadata": {},
   "outputs": [
    {
     "data": {
      "text/plain": [
       "<matplotlib.axes._subplots.AxesSubplot at 0x1a2bb263d0>"
      ]
     },
     "execution_count": 168,
     "metadata": {},
     "output_type": "execute_result"
    },
    {
     "data": {
      "image/png": "[encoded data removed]",
      "text/plain": [
       "<Figure size 432x288 with 1 Axes>"
      ]
     },
     "metadata": {
      "needs_background": "light"
     },
     "output_type": "display_data"
    }
   ],
   "source": [
    "sns.distplot(b1_1, **d, fit=stats.beta)"
   ]
  },
  {
   "cell_type": "code",
   "execution_count": 169,
   "metadata": {},
   "outputs": [
    {
     "data": {
      "text/plain": [
       "<matplotlib.axes._subplots.AxesSubplot at 0x1a2bc14450>"
      ]
     },
     "execution_count": 169,
     "metadata": {},
     "output_type": "execute_result"
    },
    {
     "data": {
      "image/png": "[encoded data removed]",
      "text/plain": [
       "<Figure size 432x288 with 1 Axes>"
      ]
     },
     "metadata": {
      "needs_background": "light"
     },
     "output_type": "display_data"
    }
   ],
   "source": [
    "sns.distplot(b10_10,fit=stats.beta, **d)"
   ]
  },
  {
   "cell_type": "code",
   "execution_count": null,
   "metadata": {},
   "outputs": [],
   "source": [
    "b100_100 = np.random.beta(a=100,b=100, size=200)"
   ]
  },
  {
   "cell_type": "code",
   "execution_count": 167,
   "metadata": {},
   "outputs": [
    {
     "name": "stderr",
     "output_type": "stream",
     "text": [
      "/Users/seanreed1/miniconda3/lib/python3.7/site-packages/scipy/stats/_continuous_distns.py:621: RuntimeWarning: invalid value encountered in sqrt\n",
      "  sk = 2*(b-a)*np.sqrt(a + b + 1) / (a + b + 2) / np.sqrt(a*b)\n",
      "/Users/seanreed1/miniconda3/lib/python3.7/site-packages/scipy/optimize/minpack.py:175: RuntimeWarning: The iteration is not making good progress, as measured by the \n",
      "  improvement from the last ten iterations.\n",
      "  warnings.warn(msg, RuntimeWarning)\n"
     ]
    },
    {
     "data": {
      "text/plain": [
       "<matplotlib.axes._subplots.AxesSubplot at 0x1a2a6f2ed0>"
      ]
     },
     "execution_count": 167,
     "metadata": {},
     "output_type": "execute_result"
    },
    {
     "data": {
      "image/png": "[encoded data removed]",
      "text/plain": [
       "<Figure size 432x288 with 1 Axes>"
      ]
     },
     "metadata": {
      "needs_background": "light"
     },
     "output_type": "display_data"
    }
   ],
   "source": [
    "sns.distplot(b100_100, fit=stats.beta, **d)"
   ]
  },
  {
   "cell_type": "markdown",
   "metadata": {},
   "source": [
    "## Binomial distribution "
   ]
  },
  {
   "cell_type": "code",
   "execution_count": null,
   "metadata": {},
   "outputs": [],
   "source": []
  },
  {
   "cell_type": "code",
   "execution_count": 46,
   "metadata": {},
   "outputs": [
    {
     "data": {
      "text/plain": [
       "array([1, 1, 1, 0, 0, 1, 0, 0, 0, 1, 0, 1, 1, 0, 1, 1, 1, 0, 1, 1, 1, 0,\n",
       "       1, 1, 1, 0, 0, 1, 1, 1, 1, 0, 1, 1, 1, 1, 0, 1, 1, 1, 1, 1, 1, 0,\n",
       "       1, 0, 0, 1, 0, 1, 0, 1, 0, 1, 1, 0, 0, 1, 0, 1, 0, 1, 0, 0, 1, 0,\n",
       "       0, 1, 1, 0, 0, 0, 0, 0, 0, 1, 1, 1, 1, 0, 1, 0, 0, 1, 1, 0, 0, 0,\n",
       "       1, 1, 0, 1, 0, 0, 1, 1, 0, 1, 0, 1])"
      ]
     },
     "execution_count": 46,
     "metadata": {},
     "output_type": "execute_result"
    }
   ],
   "source": [
    "'''number of heads of 1 flip of a fair coin, \n",
    "prob of heads = 0.5, \n",
    "repeated 100 times\n",
    "\n",
    "or, 100 draws from a binomial distribution \n",
    "with n=1\n",
    "and probability of success = 0.5\n",
    "'''\n",
    "b1 = np.random.binomial(n=1, p=0.5, size=100)\n",
    "b1"
   ]
  },
  {
   "cell_type": "code",
   "execution_count": 48,
   "metadata": {},
   "outputs": [
    {
     "data": {
      "text/plain": [
       "array([2, 1, 2, 1, 1, 1, 2, 0, 1, 1, 0, 1, 1, 1, 2, 1, 1, 1, 1, 1, 1, 1,\n",
       "       1, 0, 2, 1, 1, 1, 1, 1, 1, 0, 0, 1, 0, 2, 1, 0, 0, 2, 0, 1, 1, 0,\n",
       "       1, 1, 1, 2, 1, 0, 1, 0, 0, 1, 2, 1, 1, 0, 1, 1, 1, 2, 2, 1, 2, 1,\n",
       "       1, 0, 2, 2, 1, 1, 0, 1, 1, 2, 1, 2, 1, 2, 0, 1, 1, 0, 1, 2, 1, 0,\n",
       "       2, 1, 1, 2, 0, 0, 0, 2, 2, 1, 2, 1])"
      ]
     },
     "execution_count": 48,
     "metadata": {},
     "output_type": "execute_result"
    }
   ],
   "source": [
    "'''\n",
    "number of heads of 2 flips of a fair coin, \n",
    "prob of heads = 0.5, \n",
    "repeated 100 times\n",
    "\n",
    "or, 100 draws from a binomial distribution \n",
    "with n=2 \n",
    "and probability of success = 0.5\n",
    "'''\n",
    "b2= np.random.binomial(n=2, p=0.5, size=100)\n",
    "b2"
   ]
  },
  {
   "cell_type": "code",
   "execution_count": 50,
   "metadata": {},
   "outputs": [
    {
     "data": {
      "text/plain": [
       "array([1, 3, 1, 2, 0, 1, 1, 0, 1, 1, 2, 3, 1, 1, 3, 1, 3, 1, 2, 2, 1, 2,\n",
       "       1, 2, 1, 3, 3, 0, 0, 1, 2, 2, 2, 3, 2, 2, 0, 3, 1, 1, 2, 1, 2, 2,\n",
       "       1, 0, 2, 2, 1, 1, 0, 0, 1, 1, 0, 2, 2, 1, 1, 1, 1, 1, 1, 3, 3, 3,\n",
       "       1, 2, 3, 0, 1, 2, 3, 1, 0, 1, 3, 1, 1, 2, 0, 2, 1, 0, 3, 2, 2, 1,\n",
       "       2, 2, 3, 0, 1, 1, 1, 0, 2, 2, 1, 2])"
      ]
     },
     "execution_count": 50,
     "metadata": {},
     "output_type": "execute_result"
    }
   ],
   "source": [
    "'''\n",
    "number of heads of 3 flips of a fair coin, \n",
    "prob of heads = 0.5, \n",
    "repeated 100 times\n",
    "\n",
    "or, 100 draws from a binomial distribution \n",
    "with n=3 \n",
    "and probability of success = 0.5\n",
    "'''\n",
    "b3= np.random.binomial(n=3, p=0.5, size=100)\n",
    "b3"
   ]
  },
  {
   "cell_type": "code",
   "execution_count": 51,
   "metadata": {},
   "outputs": [
    {
     "data": {
      "text/plain": [
       "array([2, 2, 3, 3, 3, 2, 2, 2, 4, 4, 3, 2, 4, 5, 2, 3, 3, 5, 2, 4, 4, 3,\n",
       "       2, 2, 3, 0, 2, 2, 2, 3, 3, 2, 3, 3, 1, 1, 2, 1, 2, 4, 1, 2, 2, 4,\n",
       "       2, 2, 3, 4, 1, 5, 4, 2, 3, 4, 3, 2, 3, 2, 2, 1, 3, 4, 3, 1, 1, 2,\n",
       "       1, 3, 2, 4, 2, 1, 3, 2, 3, 1, 4, 2, 2, 3, 4, 2, 1, 4, 3, 2, 3, 2,\n",
       "       3, 3, 2, 2, 2, 3, 5, 5, 2, 2, 1, 2])"
      ]
     },
     "execution_count": 51,
     "metadata": {},
     "output_type": "execute_result"
    }
   ],
   "source": [
    "'''\n",
    "number of heads of 5 flips of a fair coin, \n",
    "prob of heads = 0.5, \n",
    "repeated 100 times\n",
    "\n",
    "or, 100 draws from a binomial distribution \n",
    "with n=5 \n",
    "and probability of success = 0.5\n",
    "'''\n",
    "b5= np.random.binomial(n=5, p=0.5, size=100)\n",
    "b5"
   ]
  },
  {
   "cell_type": "code",
   "execution_count": 55,
   "metadata": {},
   "outputs": [
    {
     "data": {
      "text/plain": [
       "array([53, 40, 38, 46, 52, 49, 46, 56, 58, 36, 54, 51, 46, 55, 48, 50, 52,\n",
       "       45, 51, 50, 45, 52, 48, 44, 60, 40, 47, 49, 47, 48, 41, 48, 49, 50,\n",
       "       48, 53, 49, 49, 50, 53, 49, 56, 51, 56, 52, 55, 55, 49, 51, 52, 53,\n",
       "       49, 57, 52, 51, 55, 44, 43, 51, 44, 40, 40, 48, 55, 51, 41, 42, 55,\n",
       "       48, 52, 49, 46, 52, 56, 53, 49, 56, 57, 47, 47, 48, 57, 43, 45, 53,\n",
       "       37, 56, 45, 46, 39, 46, 45, 49, 49, 46, 51, 49, 56, 53, 49])"
      ]
     },
     "execution_count": 55,
     "metadata": {},
     "output_type": "execute_result"
    }
   ],
   "source": [
    "'''\n",
    "number of heads of 100 flips of a fair coin, \n",
    "prob of heads = 0.5, \n",
    "repeated 100 times\n",
    "\n",
    "or, 100 draws from a binomial distribution \n",
    "with n=100 \n",
    "and probability of success = 0.5\n",
    "\n",
    "'''\n",
    "b100= np.random.binomial(n=100, p=0.5, size=100)\n",
    "b100"
   ]
  },
  {
   "cell_type": "code",
   "execution_count": 57,
   "metadata": {},
   "outputs": [],
   "source": [
    "'''\n",
    "number of heads of 100 flips of a fair coin, \n",
    "prob of heads = 0.5, \n",
    "repeated 1,000,000 times\n",
    "\n",
    "or, 1,000,000 draws from a binomial distribution \n",
    "with n=100 \n",
    "and probability of success = 0.5\n",
    "\n",
    "\n",
    "'''\n",
    "b100_new= np.random.binomial(n=100, p=0.5, size=1000000)"
   ]
  },
  {
   "cell_type": "code",
   "execution_count": 58,
   "metadata": {},
   "outputs": [
    {
     "data": {
      "text/plain": [
       "<matplotlib.axes._subplots.AxesSubplot at 0x1a26ee1cd0>"
      ]
     },
     "execution_count": 58,
     "metadata": {},
     "output_type": "execute_result"
    },
    {
     "data": {
      "image/png": "[encoded data removed]",
      "text/plain": [
       "<Figure size 432x288 with 1 Axes>"
      ]
     },
     "metadata": {
      "needs_background": "light"
     },
     "output_type": "display_data"
    }
   ],
   "source": [
    "sns.distplot(b100_new, **d)"
   ]
  },
  {
   "cell_type": "code",
   "execution_count": null,
   "metadata": {},
   "outputs": [],
   "source": []
  },
  {
   "cell_type": "markdown",
   "metadata": {},
   "source": [
    "**Normal Distributions"
   ]
  },
  {
   "cell_type": "code",
   "execution_count": 63,
   "metadata": {},
   "outputs": [
    {
     "data": {
      "text/plain": [
       "\u001b[0;31mDocstring:\u001b[0m\n",
       "normal(loc=0.0, scale=1.0, size=None)\n",
       "\n",
       "Draw random samples from a normal (Gaussian) distribution.\n",
       "\n",
       "The probability density function of the normal distribution, first\n",
       "derived by De Moivre and 200 years later by both Gauss and Laplace\n",
       "independently [2]_, is often called the bell curve because of\n",
       "its characteristic shape (see the example below).\n",
       "\n",
       "The normal distributions occurs often in nature.  For example, it\n",
       "describes the commonly occurring distribution of samples influenced\n",
       "by a large number of tiny, random disturbances, each with its own\n",
       "unique distribution [2]_.\n",
       "\n",
       ".. note::\n",
       "    New code should use the ``normal`` method of a ``default_rng()``\n",
       "    instance instead; see `random-quick-start`.\n",
       "\n",
       "Parameters\n",
       "----------\n",
       "loc : float or array_like of floats\n",
       "    Mean (\"centre\") of the distribution.\n",
       "scale : float or array_like of floats\n",
       "    Standard deviation (spread or \"width\") of the distribution. Must be\n",
       "    non-negative.\n",
       "size : int or tuple of ints, optional\n",
       "    Output shape.  If the given shape is, e.g., ``(m, n, k)``, then\n",
       "    ``m * n * k`` samples are drawn.  If size is ``None`` (default),\n",
       "    a single value is returned if ``loc`` and ``scale`` are both scalars.\n",
       "    Otherwise, ``np.broadcast(loc, scale).size`` samples are drawn.\n",
       "\n",
       "Returns\n",
       "-------\n",
       "out : ndarray or scalar\n",
       "    Drawn samples from the parameterized normal distribution.\n",
       "\n",
       "See Also\n",
       "--------\n",
       "scipy.stats.norm : probability density function, distribution or\n",
       "    cumulative density function, etc.\n",
       "Generator.normal: which should be used for new code.\n",
       "\n",
       "Notes\n",
       "-----\n",
       "The probability density for the Gaussian distribution is\n",
       "\n",
       ".. math:: p(x) = \\frac{1}{\\sqrt{ 2 \\pi \\sigma^2 }}\n",
       "                 e^{ - \\frac{ (x - \\mu)^2 } {2 \\sigma^2} },\n",
       "\n",
       "where :math:`\\mu` is the mean and :math:`\\sigma` the standard\n",
       "deviation. The square of the standard deviation, :math:`\\sigma^2`,\n",
       "is called the variance.\n",
       "\n",
       "The function has its peak at the mean, and its \"spread\" increases with\n",
       "the standard deviation (the function reaches 0.607 times its maximum at\n",
       ":math:`x + \\sigma` and :math:`x - \\sigma` [2]_).  This implies that\n",
       "normal is more likely to return samples lying close to the mean, rather\n",
       "than those far away.\n",
       "\n",
       "References\n",
       "----------\n",
       ".. [1] Wikipedia, \"Normal distribution\",\n",
       "       https://en.wikipedia.org/wiki/Normal_distribution\n",
       ".. [2] P. R. Peebles Jr., \"Central Limit Theorem\" in \"Probability,\n",
       "       Random Variables and Random Signal Principles\", 4th ed., 2001,\n",
       "       pp. 51, 51, 125.\n",
       "\n",
       "Examples\n",
       "--------\n",
       "Draw samples from the distribution:\n",
       "\n",
       ">>> mu, sigma = 0, 0.1 # mean and standard deviation\n",
       ">>> s = np.random.normal(mu, sigma, 1000)\n",
       "\n",
       "Verify the mean and the variance:\n",
       "\n",
       ">>> abs(mu - np.mean(s))\n",
       "0.0  # may vary\n",
       "\n",
       ">>> abs(sigma - np.std(s, ddof=1))\n",
       "0.1  # may vary\n",
       "\n",
       "Display the histogram of the samples, along with\n",
       "the probability density function:\n",
       "\n",
       ">>> import matplotlib.pyplot as plt\n",
       ">>> count, bins, ignored = plt.hist(s, 30, density=True)\n",
       ">>> plt.plot(bins, 1/(sigma * np.sqrt(2 * np.pi)) *\n",
       "...                np.exp( - (bins - mu)**2 / (2 * sigma**2) ),\n",
       "...          linewidth=2, color='r')\n",
       ">>> plt.show()\n",
       "\n",
       "Two-by-four array of samples from N(3, 6.25):\n",
       "\n",
       ">>> np.random.normal(3, 2.5, size=(2, 4))\n",
       "array([[-4.49401501,  4.00950034, -1.81814867,  7.29718677],   # random\n",
       "       [ 0.39924804,  4.68456316,  4.99394529,  4.84057254]])  # random\n",
       "\u001b[0;31mType:\u001b[0m      builtin_function_or_method\n"
      ]
     },
     "metadata": {},
     "output_type": "display_data"
    }
   ],
   "source": [
    "n1 = np.random.normal??"
   ]
  },
  {
   "cell_type": "code",
   "execution_count": 67,
   "metadata": {},
   "outputs": [
    {
     "data": {
      "text/plain": [
       "array([ 1.88977084, -0.22070659, -0.67112114,  1.35967776,  1.17949203,\n",
       "       -0.39050839, -0.82518123, -0.69522712,  0.57929904,  0.02950541,\n",
       "        1.76808413,  0.72197651, -0.3035245 ,  0.20371232, -0.01520652,\n",
       "        0.05620176,  0.3140823 ,  0.53172419, -0.71925361,  1.39233912,\n",
       "       -0.47322742,  1.22958423, -2.19023277,  1.07961658, -0.6766428 ,\n",
       "        1.04888648, -0.80221373,  1.8499008 , -0.28591636,  1.63161378,\n",
       "        1.14695249, -0.19946316,  0.99488751,  0.03868231, -1.52683666,\n",
       "       -0.47618545,  1.37647894,  1.01277788,  0.46484854,  1.37161567,\n",
       "        1.13062287, -1.30341759, -1.42149455,  0.36048329, -0.11517283,\n",
       "       -2.65254955, -2.72813872, -0.70283347,  0.28825609,  0.8725708 ,\n",
       "        0.050616  ,  1.12635805,  0.40265838,  2.24384609,  0.34530566,\n",
       "        0.07919937, -0.0216442 , -0.92213474,  0.27918377,  0.76008033,\n",
       "       -0.09824425, -2.72066296,  1.25469962, -0.99376209, -0.86663843,\n",
       "       -1.66728227,  2.20617132, -0.07516535, -0.47634007, -0.51575163,\n",
       "        0.21808914,  0.09886779, -0.17711139,  0.55365899,  0.2627535 ,\n",
       "       -0.07444276,  0.8171371 ,  0.23540163,  1.09457289, -0.06082552,\n",
       "       -0.00356621, -1.23716921, -0.98748164, -0.90851615,  0.51191332,\n",
       "        1.23704986,  0.5984804 , -1.40716301,  0.36387641, -0.96028633,\n",
       "       -0.76590632, -2.03753383, -0.86056028,  0.80285408, -1.05563806,\n",
       "        0.64988388,  2.05607182,  0.52578249, -0.66461323, -0.78121586])"
      ]
     },
     "execution_count": 67,
     "metadata": {},
     "output_type": "execute_result"
    }
   ],
   "source": [
    "'''\n",
    "100 draws from a normal distribution\n",
    "with mean = 0,\n",
    "standard deviation = 1\n",
    "'''\n",
    "\n",
    "n = np.random.normal(0,1,size=100)\n",
    "n"
   ]
  },
  {
   "cell_type": "code",
   "execution_count": 68,
   "metadata": {},
   "outputs": [
    {
     "data": {
      "text/plain": [
       "<matplotlib.axes._subplots.AxesSubplot at 0x110c2de90>"
      ]
     },
     "execution_count": 68,
     "metadata": {},
     "output_type": "execute_result"
    },
    {
     "data": {
      "image/png": "[encoded data removed]",
      "text/plain": [
       "<Figure size 432x288 with 1 Axes>"
      ]
     },
     "metadata": {
      "needs_background": "light"
     },
     "output_type": "display_data"
    }
   ],
   "source": [
    "sns.distplot(n, **d)"
   ]
  },
  {
   "cell_type": "code",
   "execution_count": 70,
   "metadata": {},
   "outputs": [
    {
     "data": {
      "text/plain": [
       "<matplotlib.axes._subplots.AxesSubplot at 0x1a26dba0d0>"
      ]
     },
     "execution_count": 70,
     "metadata": {},
     "output_type": "execute_result"
    },
    {
     "data": {
      "image/png": "[encoded data removed]",
      "text/plain": [
       "<Figure size 432x288 with 1 Axes>"
      ]
     },
     "metadata": {
      "needs_background": "light"
     },
     "output_type": "display_data"
    }
   ],
   "source": [
    "'''\n",
    "1,000 draws from a normal distribution\n",
    "with mean = 0,\n",
    "standard deviation = 1\n",
    "'''\n",
    "\n",
    "n1000 = np.random.normal(0,1,size=1000)\n",
    "sns.distplot(n1000, **d)"
   ]
  },
  {
   "cell_type": "code",
   "execution_count": 71,
   "metadata": {},
   "outputs": [
    {
     "data": {
      "text/plain": [
       "<matplotlib.axes._subplots.AxesSubplot at 0x1a288f2250>"
      ]
     },
     "execution_count": 71,
     "metadata": {},
     "output_type": "execute_result"
    },
    {
     "data": {
      "image/png": "[encoded data removed]",
      "text/plain": [
       "<Figure size 432x288 with 1 Axes>"
      ]
     },
     "metadata": {
      "needs_background": "light"
     },
     "output_type": "display_data"
    }
   ],
   "source": [
    "'''\n",
    "100,000 draws from a normal distribution\n",
    "with mean = 0,\n",
    "standard deviation = 1\n",
    "'''\n",
    "\n",
    "n100000 = np.random.normal(0,1,size=100000)\n",
    "sns.distplot(n100000, **d)"
   ]
  },
  {
   "cell_type": "code",
   "execution_count": 72,
   "metadata": {},
   "outputs": [
    {
     "data": {
      "text/plain": [
       "<matplotlib.axes._subplots.AxesSubplot at 0x1a277cf3d0>"
      ]
     },
     "execution_count": 72,
     "metadata": {},
     "output_type": "execute_result"
    },
    {
     "data": {
      "image/png": "[encoded data removed]",
      "text/plain": [
       "<Figure size 432x288 with 1 Axes>"
      ]
     },
     "metadata": {
      "needs_background": "light"
     },
     "output_type": "display_data"
    }
   ],
   "source": [
    "'''\n",
    "100,000 draws from a normal distribution\n",
    "with mean = 10,\n",
    "standard deviation = 1\n",
    "'''\n",
    "\n",
    "mean10 = np.random.normal(10, 1, size=100000)\n",
    "sns.distplot(mean10, **d)"
   ]
  },
  {
   "cell_type": "code",
   "execution_count": 73,
   "metadata": {},
   "outputs": [
    {
     "data": {
      "text/plain": [
       "<matplotlib.axes._subplots.AxesSubplot at 0x1a27a1c210>"
      ]
     },
     "execution_count": 73,
     "metadata": {},
     "output_type": "execute_result"
    },
    {
     "data": {
      "image/png": "[encoded data removed]",
      "text/plain": [
       "<Figure size 432x288 with 1 Axes>"
      ]
     },
     "metadata": {
      "needs_background": "light"
     },
     "output_type": "display_data"
    }
   ],
   "source": [
    "'''\n",
    "100,000 draws from a normal distribution\n",
    "with mean = -10,\n",
    "standard deviation = 1\n",
    "'''\n",
    "\n",
    "mean_minus_10 = np.random.normal(-10, 1, size=100000)\n",
    "sns.distplot(mean_minus_10, **d)"
   ]
  },
  {
   "cell_type": "code",
   "execution_count": 74,
   "metadata": {},
   "outputs": [
    {
     "data": {
      "text/plain": [
       "<matplotlib.axes._subplots.AxesSubplot at 0x1a245e1550>"
      ]
     },
     "execution_count": 74,
     "metadata": {},
     "output_type": "execute_result"
    },
    {
     "data": {
      "image/png": "[encoded data removed]",
      "text/plain": [
       "<Figure size 432x288 with 1 Axes>"
      ]
     },
     "metadata": {
      "needs_background": "light"
     },
     "output_type": "display_data"
    }
   ],
   "source": [
    "'''\n",
    "100,000 draws from a normal distribution\n",
    "with mean = 0,\n",
    "standard deviation = 1\n",
    "'''\n",
    "mean_0_sd_1 = np.random.normal(0, 1, size=100000)\n",
    "sns.distplot(mean_0_sd_1, **d)"
   ]
  },
  {
   "cell_type": "code",
   "execution_count": 75,
   "metadata": {},
   "outputs": [
    {
     "data": {
      "text/plain": [
       "<matplotlib.axes._subplots.AxesSubplot at 0x1a27e9db90>"
      ]
     },
     "execution_count": 75,
     "metadata": {},
     "output_type": "execute_result"
    },
    {
     "data": {
      "image/png": "[encoded data removed]",
      "text/plain": [
       "<Figure size 432x288 with 1 Axes>"
      ]
     },
     "metadata": {
      "needs_background": "light"
     },
     "output_type": "display_data"
    }
   ],
   "source": [
    "'''\n",
    "100,000 draws from a normal distribution\n",
    "with mean = 0,\n",
    "standard deviation = 2\n",
    "'''\n",
    "mean_0_sd_2 = np.random.normal(0, 2, size=100000)\n",
    "sns.distplot(mean_0_sd_2, **d)"
   ]
  },
  {
   "cell_type": "code",
   "execution_count": 76,
   "metadata": {},
   "outputs": [
    {
     "data": {
      "text/plain": [
       "<matplotlib.axes._subplots.AxesSubplot at 0x1a281cfad0>"
      ]
     },
     "execution_count": 76,
     "metadata": {},
     "output_type": "execute_result"
    },
    {
     "data": {
      "image/png": "[encoded data removed]",
      "text/plain": [
       "<Figure size 432x288 with 1 Axes>"
      ]
     },
     "metadata": {
      "needs_background": "light"
     },
     "output_type": "display_data"
    }
   ],
   "source": [
    "'''\n",
    "100,000 draws from a normal distribution\n",
    "with mean = 0,\n",
    "standard deviation = 5\n",
    "'''\n",
    "mean_0_sd_5 = np.random.normal(0, 5, size=100000)\n",
    "sns.distplot(mean_0_sd_5, **d)"
   ]
  },
  {
   "cell_type": "code",
   "execution_count": 88,
   "metadata": {},
   "outputs": [
    {
     "data": {
      "text/plain": [
       "<matplotlib.axes._subplots.AxesSubplot at 0x1a28e4fbd0>"
      ]
     },
     "execution_count": 88,
     "metadata": {},
     "output_type": "execute_result"
    },
    {
     "data": {
      "image/png": "[encoded data removed]",
      "text/plain": [
       "<Figure size 432x288 with 1 Axes>"
      ]
     },
     "metadata": {
      "needs_background": "light"
     },
     "output_type": "display_data"
    }
   ],
   "source": [
    "'''\n",
    "100,000 draws from a normal distribution\n",
    "with mean = 0,\n",
    "standard deviation = 10\n",
    "'''\n",
    "\n",
    "mean_0_sd_10 = np.random.normal(0, 10, size=100000)\n",
    "sns.distplot(mean_0_sd_10, **d, fit=stats.norm)"
   ]
  },
  {
   "cell_type": "code",
   "execution_count": 87,
   "metadata": {},
   "outputs": [
    {
     "data": {
      "text/plain": [
       "<matplotlib.axes._subplots.AxesSubplot at 0x1a28e4f8d0>"
      ]
     },
     "execution_count": 87,
     "metadata": {},
     "output_type": "execute_result"
    },
    {
     "data": {
      "image/png": "[encoded data removed]",
      "text/plain": [
       "<Figure size 432x288 with 1 Axes>"
      ]
     },
     "metadata": {
      "needs_background": "light"
     },
     "output_type": "display_data"
    }
   ],
   "source": [
    "'''\n",
    "100,000 draws from a normal distribution\n",
    "with mean = 0,\n",
    "standard deviation = 100\n",
    "'''\n",
    "mean_0_sd_100 = np.random.normal(0, 100, size=100000)\n",
    "sns.distplot(mean_0_sd_100, **d, fit=stats.norm)"
   ]
  }
 ],
 "metadata": {
  "kernelspec": {
   "display_name": "Python 3",
   "language": "python",
   "name": "python3"
  },
  "language_info": {
   "codemirror_mode": {
    "name": "ipython",
    "version": 3
   },
   "file_extension": ".py",
   "mimetype": "text/x-python",
   "name": "python",
   "nbconvert_exporter": "python",
   "pygments_lexer": "ipython3",
   "version": "3.7.7"
  }
 },
 "nbformat": 4,
 "nbformat_minor": 4
}
